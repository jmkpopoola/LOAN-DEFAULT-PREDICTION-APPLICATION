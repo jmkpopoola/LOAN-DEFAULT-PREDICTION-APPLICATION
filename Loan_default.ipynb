{
 "cells": [
  {
   "cell_type": "code",
   "execution_count": 3,
   "id": "cd431623",
   "metadata": {},
   "outputs": [],
   "source": [
    "import numpy as np\n",
    "import pandas as pd\n",
    "import matplotlib.pyplot as plt\n",
    "import seaborn as sns\n",
    "import warnings\n",
    "warnings.filterwarnings('ignore')"
   ]
  },
  {
   "cell_type": "code",
   "execution_count": 6,
   "id": "236faa5d",
   "metadata": {},
   "outputs": [
    {
     "data": {
      "text/html": [
       "<div>\n",
       "<style scoped>\n",
       "    .dataframe tbody tr th:only-of-type {\n",
       "        vertical-align: middle;\n",
       "    }\n",
       "\n",
       "    .dataframe tbody tr th {\n",
       "        vertical-align: top;\n",
       "    }\n",
       "\n",
       "    .dataframe thead th {\n",
       "        text-align: right;\n",
       "    }\n",
       "</style>\n",
       "<table border=\"1\" class=\"dataframe\">\n",
       "  <thead>\n",
       "    <tr style=\"text-align: right;\">\n",
       "      <th></th>\n",
       "      <th>LoanID</th>\n",
       "      <th>Age</th>\n",
       "      <th>Income</th>\n",
       "      <th>LoanAmount</th>\n",
       "      <th>CreditScore</th>\n",
       "      <th>MonthsEmployed</th>\n",
       "      <th>NumCreditLines</th>\n",
       "      <th>InterestRate</th>\n",
       "      <th>LoanTerm</th>\n",
       "      <th>DTIRatio</th>\n",
       "      <th>Education</th>\n",
       "      <th>EmploymentType</th>\n",
       "      <th>MaritalStatus</th>\n",
       "      <th>HasMortgage</th>\n",
       "      <th>HasDependents</th>\n",
       "      <th>LoanPurpose</th>\n",
       "      <th>HasCoSigner</th>\n",
       "      <th>Default</th>\n",
       "    </tr>\n",
       "  </thead>\n",
       "  <tbody>\n",
       "    <tr>\n",
       "      <th>0</th>\n",
       "      <td>DVT8525DS1</td>\n",
       "      <td>56</td>\n",
       "      <td>138778</td>\n",
       "      <td>178895</td>\n",
       "      <td>401</td>\n",
       "      <td>64</td>\n",
       "      <td>9</td>\n",
       "      <td>3.04</td>\n",
       "      <td>12</td>\n",
       "      <td>0.32</td>\n",
       "      <td>Master's</td>\n",
       "      <td>Self-employed</td>\n",
       "      <td>Widowed</td>\n",
       "      <td>No</td>\n",
       "      <td>Yes</td>\n",
       "      <td>Other</td>\n",
       "      <td>No</td>\n",
       "      <td>1</td>\n",
       "    </tr>\n",
       "    <tr>\n",
       "      <th>1</th>\n",
       "      <td>XZDFN6SHJJ</td>\n",
       "      <td>69</td>\n",
       "      <td>72292</td>\n",
       "      <td>173280</td>\n",
       "      <td>805</td>\n",
       "      <td>82</td>\n",
       "      <td>7</td>\n",
       "      <td>11.28</td>\n",
       "      <td>24</td>\n",
       "      <td>0.51</td>\n",
       "      <td>Bachelor's</td>\n",
       "      <td>Unemployed</td>\n",
       "      <td>Single</td>\n",
       "      <td>Yes</td>\n",
       "      <td>Yes</td>\n",
       "      <td>Education</td>\n",
       "      <td>No</td>\n",
       "      <td>0</td>\n",
       "    </tr>\n",
       "    <tr>\n",
       "      <th>2</th>\n",
       "      <td>ZZC79IODRE</td>\n",
       "      <td>46</td>\n",
       "      <td>33833</td>\n",
       "      <td>59061</td>\n",
       "      <td>546</td>\n",
       "      <td>153</td>\n",
       "      <td>5</td>\n",
       "      <td>15.56</td>\n",
       "      <td>36</td>\n",
       "      <td>0.67</td>\n",
       "      <td>Bachelor's</td>\n",
       "      <td>Unemployed</td>\n",
       "      <td>Married</td>\n",
       "      <td>No</td>\n",
       "      <td>No</td>\n",
       "      <td>Other</td>\n",
       "      <td>No</td>\n",
       "      <td>0</td>\n",
       "    </tr>\n",
       "    <tr>\n",
       "      <th>3</th>\n",
       "      <td>34NSGCS3BK</td>\n",
       "      <td>32</td>\n",
       "      <td>145230</td>\n",
       "      <td>166731</td>\n",
       "      <td>836</td>\n",
       "      <td>265</td>\n",
       "      <td>8</td>\n",
       "      <td>13.53</td>\n",
       "      <td>12</td>\n",
       "      <td>0.60</td>\n",
       "      <td>Bachelor's</td>\n",
       "      <td>Full-time</td>\n",
       "      <td>Divorced</td>\n",
       "      <td>No</td>\n",
       "      <td>Yes</td>\n",
       "      <td>Business</td>\n",
       "      <td>Yes</td>\n",
       "      <td>1</td>\n",
       "    </tr>\n",
       "    <tr>\n",
       "      <th>4</th>\n",
       "      <td>CF243529IU</td>\n",
       "      <td>60</td>\n",
       "      <td>30309</td>\n",
       "      <td>106376</td>\n",
       "      <td>430</td>\n",
       "      <td>308</td>\n",
       "      <td>2</td>\n",
       "      <td>21.97</td>\n",
       "      <td>60</td>\n",
       "      <td>0.77</td>\n",
       "      <td>Master's</td>\n",
       "      <td>Part-time</td>\n",
       "      <td>Widowed</td>\n",
       "      <td>No</td>\n",
       "      <td>No</td>\n",
       "      <td>Home Improvement</td>\n",
       "      <td>No</td>\n",
       "      <td>0</td>\n",
       "    </tr>\n",
       "  </tbody>\n",
       "</table>\n",
       "</div>"
      ],
      "text/plain": [
       "       LoanID  Age  Income  LoanAmount  CreditScore  MonthsEmployed  \\\n",
       "0  DVT8525DS1   56  138778      178895          401              64   \n",
       "1  XZDFN6SHJJ   69   72292      173280          805              82   \n",
       "2  ZZC79IODRE   46   33833       59061          546             153   \n",
       "3  34NSGCS3BK   32  145230      166731          836             265   \n",
       "4  CF243529IU   60   30309      106376          430             308   \n",
       "\n",
       "   NumCreditLines  InterestRate  LoanTerm  DTIRatio   Education  \\\n",
       "0               9          3.04        12      0.32    Master's   \n",
       "1               7         11.28        24      0.51  Bachelor's   \n",
       "2               5         15.56        36      0.67  Bachelor's   \n",
       "3               8         13.53        12      0.60  Bachelor's   \n",
       "4               2         21.97        60      0.77    Master's   \n",
       "\n",
       "  EmploymentType MaritalStatus HasMortgage HasDependents       LoanPurpose  \\\n",
       "0  Self-employed       Widowed          No           Yes             Other   \n",
       "1     Unemployed        Single         Yes           Yes         Education   \n",
       "2     Unemployed       Married          No            No             Other   \n",
       "3      Full-time      Divorced          No           Yes          Business   \n",
       "4      Part-time       Widowed          No            No  Home Improvement   \n",
       "\n",
       "  HasCoSigner  Default  \n",
       "0          No        1  \n",
       "1          No        0  \n",
       "2          No        0  \n",
       "3         Yes        1  \n",
       "4          No        0  "
      ]
     },
     "execution_count": 6,
     "metadata": {},
     "output_type": "execute_result"
    }
   ],
   "source": [
    "df = pd.read_csv('C:/Users/HP/Downloads/MINDFLUX PROJECTS\\MINDFLUX CAPSTONE PROJECTS/MINDFLUX PROJECT 1 LOAN DEFAULT PREDICTION Streamlit_app/Streamlit_app-main/loan_default.csv')\n",
    "df = df.copy()\n",
    "df.head()"
   ]
  },
  {
   "cell_type": "code",
   "execution_count": 7,
   "id": "2d43026e",
   "metadata": {},
   "outputs": [
    {
     "name": "stdout",
     "output_type": "stream",
     "text": [
      "<class 'pandas.core.frame.DataFrame'>\n",
      "RangeIndex: 1000 entries, 0 to 999\n",
      "Data columns (total 18 columns):\n",
      " #   Column          Non-Null Count  Dtype  \n",
      "---  ------          --------------  -----  \n",
      " 0   LoanID          1000 non-null   object \n",
      " 1   Age             1000 non-null   int64  \n",
      " 2   Income          1000 non-null   int64  \n",
      " 3   LoanAmount      1000 non-null   int64  \n",
      " 4   CreditScore     1000 non-null   int64  \n",
      " 5   MonthsEmployed  1000 non-null   int64  \n",
      " 6   NumCreditLines  1000 non-null   int64  \n",
      " 7   InterestRate    1000 non-null   float64\n",
      " 8   LoanTerm        1000 non-null   int64  \n",
      " 9   DTIRatio        1000 non-null   float64\n",
      " 10  Education       1000 non-null   object \n",
      " 11  EmploymentType  1000 non-null   object \n",
      " 12  MaritalStatus   1000 non-null   object \n",
      " 13  HasMortgage     1000 non-null   object \n",
      " 14  HasDependents   1000 non-null   object \n",
      " 15  LoanPurpose     1000 non-null   object \n",
      " 16  HasCoSigner     1000 non-null   object \n",
      " 17  Default         1000 non-null   int64  \n",
      "dtypes: float64(2), int64(8), object(8)\n",
      "memory usage: 140.8+ KB\n"
     ]
    }
   ],
   "source": [
    "#getting info about the data\n",
    "df.info()"
   ]
  },
  {
   "cell_type": "code",
   "execution_count": 8,
   "id": "b06e6eb4",
   "metadata": {},
   "outputs": [
    {
     "data": {
      "text/plain": [
       "LoanID            0\n",
       "Age               0\n",
       "Income            0\n",
       "LoanAmount        0\n",
       "CreditScore       0\n",
       "MonthsEmployed    0\n",
       "NumCreditLines    0\n",
       "InterestRate      0\n",
       "LoanTerm          0\n",
       "DTIRatio          0\n",
       "Education         0\n",
       "EmploymentType    0\n",
       "MaritalStatus     0\n",
       "HasMortgage       0\n",
       "HasDependents     0\n",
       "LoanPurpose       0\n",
       "HasCoSigner       0\n",
       "Default           0\n",
       "dtype: int64"
      ]
     },
     "execution_count": 8,
     "metadata": {},
     "output_type": "execute_result"
    }
   ],
   "source": [
    "#check for missing values in the data\n",
    "df.isna().sum()"
   ]
  },
  {
   "cell_type": "code",
   "execution_count": 9,
   "id": "f0922f8c",
   "metadata": {},
   "outputs": [
    {
     "data": {
      "text/plain": [
       "(1000, 18)"
      ]
     },
     "execution_count": 9,
     "metadata": {},
     "output_type": "execute_result"
    }
   ],
   "source": [
    "df.shape"
   ]
  },
  {
   "cell_type": "code",
   "execution_count": 10,
   "id": "2f3045a6",
   "metadata": {
    "scrolled": true
   },
   "outputs": [
    {
     "data": {
      "text/plain": [
       "LoanID             object\n",
       "Age                 int64\n",
       "Income              int64\n",
       "LoanAmount          int64\n",
       "CreditScore         int64\n",
       "MonthsEmployed      int64\n",
       "NumCreditLines      int64\n",
       "InterestRate      float64\n",
       "LoanTerm            int64\n",
       "DTIRatio          float64\n",
       "Education          object\n",
       "EmploymentType     object\n",
       "MaritalStatus      object\n",
       "HasMortgage        object\n",
       "HasDependents      object\n",
       "LoanPurpose        object\n",
       "HasCoSigner        object\n",
       "Default             int64\n",
       "dtype: object"
      ]
     },
     "execution_count": 10,
     "metadata": {},
     "output_type": "execute_result"
    }
   ],
   "source": [
    "#checking for datatype\n",
    "df.dtypes"
   ]
  },
  {
   "cell_type": "code",
   "execution_count": 11,
   "id": "9b8281d8",
   "metadata": {
    "scrolled": true
   },
   "outputs": [
    {
     "data": {
      "text/html": [
       "<div>\n",
       "<style scoped>\n",
       "    .dataframe tbody tr th:only-of-type {\n",
       "        vertical-align: middle;\n",
       "    }\n",
       "\n",
       "    .dataframe tbody tr th {\n",
       "        vertical-align: top;\n",
       "    }\n",
       "\n",
       "    .dataframe thead th {\n",
       "        text-align: right;\n",
       "    }\n",
       "</style>\n",
       "<table border=\"1\" class=\"dataframe\">\n",
       "  <thead>\n",
       "    <tr style=\"text-align: right;\">\n",
       "      <th></th>\n",
       "      <th>count</th>\n",
       "      <th>mean</th>\n",
       "      <th>std</th>\n",
       "      <th>min</th>\n",
       "      <th>25%</th>\n",
       "      <th>50%</th>\n",
       "      <th>75%</th>\n",
       "      <th>max</th>\n",
       "    </tr>\n",
       "  </thead>\n",
       "  <tbody>\n",
       "    <tr>\n",
       "      <th>Age</th>\n",
       "      <td>1000.0</td>\n",
       "      <td>49.85700</td>\n",
       "      <td>18.114267</td>\n",
       "      <td>18.00</td>\n",
       "      <td>35.0000</td>\n",
       "      <td>50.000</td>\n",
       "      <td>66.0000</td>\n",
       "      <td>79.00</td>\n",
       "    </tr>\n",
       "    <tr>\n",
       "      <th>Income</th>\n",
       "      <td>1000.0</td>\n",
       "      <td>81493.65500</td>\n",
       "      <td>40753.612567</td>\n",
       "      <td>10126.00</td>\n",
       "      <td>46467.2500</td>\n",
       "      <td>82178.500</td>\n",
       "      <td>116716.7500</td>\n",
       "      <td>149892.00</td>\n",
       "    </tr>\n",
       "    <tr>\n",
       "      <th>LoanAmount</th>\n",
       "      <td>1000.0</td>\n",
       "      <td>103832.08900</td>\n",
       "      <td>57181.693760</td>\n",
       "      <td>5163.00</td>\n",
       "      <td>52005.5000</td>\n",
       "      <td>104030.000</td>\n",
       "      <td>153698.2500</td>\n",
       "      <td>199812.00</td>\n",
       "    </tr>\n",
       "    <tr>\n",
       "      <th>CreditScore</th>\n",
       "      <td>1000.0</td>\n",
       "      <td>581.60700</td>\n",
       "      <td>158.427080</td>\n",
       "      <td>300.00</td>\n",
       "      <td>441.7500</td>\n",
       "      <td>582.500</td>\n",
       "      <td>721.2500</td>\n",
       "      <td>849.00</td>\n",
       "    </tr>\n",
       "    <tr>\n",
       "      <th>MonthsEmployed</th>\n",
       "      <td>1000.0</td>\n",
       "      <td>184.25700</td>\n",
       "      <td>101.719053</td>\n",
       "      <td>0.00</td>\n",
       "      <td>96.0000</td>\n",
       "      <td>186.000</td>\n",
       "      <td>272.0000</td>\n",
       "      <td>359.00</td>\n",
       "    </tr>\n",
       "    <tr>\n",
       "      <th>NumCreditLines</th>\n",
       "      <td>1000.0</td>\n",
       "      <td>5.07100</td>\n",
       "      <td>2.531871</td>\n",
       "      <td>1.00</td>\n",
       "      <td>3.0000</td>\n",
       "      <td>5.000</td>\n",
       "      <td>7.0000</td>\n",
       "      <td>9.00</td>\n",
       "    </tr>\n",
       "    <tr>\n",
       "      <th>InterestRate</th>\n",
       "      <td>1000.0</td>\n",
       "      <td>13.96936</td>\n",
       "      <td>6.293386</td>\n",
       "      <td>3.04</td>\n",
       "      <td>8.5975</td>\n",
       "      <td>14.045</td>\n",
       "      <td>19.4225</td>\n",
       "      <td>24.98</td>\n",
       "    </tr>\n",
       "    <tr>\n",
       "      <th>LoanTerm</th>\n",
       "      <td>1000.0</td>\n",
       "      <td>41.22000</td>\n",
       "      <td>20.381143</td>\n",
       "      <td>12.00</td>\n",
       "      <td>24.0000</td>\n",
       "      <td>36.000</td>\n",
       "      <td>60.0000</td>\n",
       "      <td>72.00</td>\n",
       "    </tr>\n",
       "    <tr>\n",
       "      <th>DTIRatio</th>\n",
       "      <td>1000.0</td>\n",
       "      <td>0.54543</td>\n",
       "      <td>0.260652</td>\n",
       "      <td>0.10</td>\n",
       "      <td>0.3200</td>\n",
       "      <td>0.540</td>\n",
       "      <td>0.7800</td>\n",
       "      <td>1.00</td>\n",
       "    </tr>\n",
       "    <tr>\n",
       "      <th>Default</th>\n",
       "      <td>1000.0</td>\n",
       "      <td>0.48700</td>\n",
       "      <td>0.500081</td>\n",
       "      <td>0.00</td>\n",
       "      <td>0.0000</td>\n",
       "      <td>0.000</td>\n",
       "      <td>1.0000</td>\n",
       "      <td>1.00</td>\n",
       "    </tr>\n",
       "  </tbody>\n",
       "</table>\n",
       "</div>"
      ],
      "text/plain": [
       "                 count          mean           std       min         25%  \\\n",
       "Age             1000.0      49.85700     18.114267     18.00     35.0000   \n",
       "Income          1000.0   81493.65500  40753.612567  10126.00  46467.2500   \n",
       "LoanAmount      1000.0  103832.08900  57181.693760   5163.00  52005.5000   \n",
       "CreditScore     1000.0     581.60700    158.427080    300.00    441.7500   \n",
       "MonthsEmployed  1000.0     184.25700    101.719053      0.00     96.0000   \n",
       "NumCreditLines  1000.0       5.07100      2.531871      1.00      3.0000   \n",
       "InterestRate    1000.0      13.96936      6.293386      3.04      8.5975   \n",
       "LoanTerm        1000.0      41.22000     20.381143     12.00     24.0000   \n",
       "DTIRatio        1000.0       0.54543      0.260652      0.10      0.3200   \n",
       "Default         1000.0       0.48700      0.500081      0.00      0.0000   \n",
       "\n",
       "                       50%          75%        max  \n",
       "Age                 50.000      66.0000      79.00  \n",
       "Income           82178.500  116716.7500  149892.00  \n",
       "LoanAmount      104030.000  153698.2500  199812.00  \n",
       "CreditScore        582.500     721.2500     849.00  \n",
       "MonthsEmployed     186.000     272.0000     359.00  \n",
       "NumCreditLines       5.000       7.0000       9.00  \n",
       "InterestRate        14.045      19.4225      24.98  \n",
       "LoanTerm            36.000      60.0000      72.00  \n",
       "DTIRatio             0.540       0.7800       1.00  \n",
       "Default              0.000       1.0000       1.00  "
      ]
     },
     "execution_count": 11,
     "metadata": {},
     "output_type": "execute_result"
    }
   ],
   "source": [
    "#the statistical summary Numerical data\n",
    "df.describe().transpose()"
   ]
  },
  {
   "cell_type": "code",
   "execution_count": 12,
   "id": "5822fc56",
   "metadata": {
    "scrolled": true
   },
   "outputs": [
    {
     "data": {
      "text/plain": [
       "['Education',\n",
       " 'EmploymentType',\n",
       " 'MaritalStatus',\n",
       " 'HasMortgage',\n",
       " 'HasDependents',\n",
       " 'LoanPurpose',\n",
       " 'HasCoSigner']"
      ]
     },
     "execution_count": 12,
     "metadata": {},
     "output_type": "execute_result"
    }
   ],
   "source": [
    "#categorical data\n",
    "categorical = ['Education', 'EmploymentType','MaritalStatus', 'HasMortgage','HasDependents','LoanPurpose','HasCoSigner' ]\n",
    "categorical"
   ]
  },
  {
   "cell_type": "code",
   "execution_count": 13,
   "id": "8938db09",
   "metadata": {},
   "outputs": [
    {
     "data": {
      "text/plain": [
       "<function matplotlib.pyplot.show(close=None, block=None)>"
      ]
     },
     "execution_count": 13,
     "metadata": {},
     "output_type": "execute_result"
    },
    {
     "data": {
      "image/png": "[encoded data removed]",
      "text/plain": [
       "<Figure size 1584x1440 with 12 Axes>"
      ]
     },
     "metadata": {
      "needs_background": "light"
     },
     "output_type": "display_data"
    }
   ],
   "source": [
    "#distribution of NUmeric data\n",
    "df.hist(figsize=(22, 20))\n",
    "plt.show"
   ]
  },
  {
   "cell_type": "code",
   "execution_count": 14,
   "id": "ddf12d16",
   "metadata": {
    "scrolled": true
   },
   "outputs": [
    {
     "data": {
      "image/png": "[encoded data removed]",
      "text/plain": [
       "<Figure size 1080x864 with 9 Axes>"
      ]
     },
     "metadata": {
      "needs_background": "light"
     },
     "output_type": "display_data"
    }
   ],
   "source": [
    "#getting the distribution of the quantitative data\n",
    "fig, axes= plt.subplots(3, 3, figsize=(15, 12))\n",
    "sns.distplot(df['Age'], color='red', ax=axes[0, 0])\n",
    "sns.distplot(df['Income'], color='red', ax=axes[0, 1])\n",
    "sns.distplot(df['CreditScore'], color='red', ax=axes[0, 2])\n",
    "sns.distplot(df['LoanAmount'], color='red', ax=axes[1, 0])\n",
    "sns.distplot(df['MonthsEmployed'], color='red', ax=axes[1, 1])\n",
    "sns.distplot(df['NumCreditLines'], color='red', ax=axes[1, 2])\n",
    "sns.distplot(df['InterestRate'], color='red', ax=axes[2, 0])\n",
    "sns.distplot(df['LoanTerm'], color='red', ax=axes[2, 1])\n",
    "sns.distplot(df['Default'], color='red', ax=axes[2, 2])\n",
    "plt.tight_layout()"
   ]
  },
  {
   "cell_type": "code",
   "execution_count": 15,
   "id": "a7f1229e",
   "metadata": {},
   "outputs": [
    {
     "data": {
      "text/plain": [
       "0    513\n",
       "1    487\n",
       "Name: Default, dtype: int64"
      ]
     },
     "execution_count": 15,
     "metadata": {},
     "output_type": "execute_result"
    }
   ],
   "source": [
    "#checking the target variable\n",
    "df['Default'].value_counts()"
   ]
  },
  {
   "cell_type": "code",
   "execution_count": 16,
   "id": "b478f80c",
   "metadata": {
    "scrolled": true
   },
   "outputs": [
    {
     "data": {
      "image/png": "[encoded data removed]",
      "text/plain": [
       "<Figure size 864x648 with 9 Axes>"
      ]
     },
     "metadata": {
      "needs_background": "light"
     },
     "output_type": "display_data"
    }
   ],
   "source": [
    "#checking for outliers in the columns\n",
    "fig, axes = plt.subplots(3, 3, figsize=(12, 9))\n",
    "\n",
    "sns.boxplot(df['Age'], color='blue', ax=axes[0, 0])\n",
    "axes[0, 0].set_title('Age')\n",
    "\n",
    "sns.boxplot(df['Income'], color='green', ax=axes[0, 1])\n",
    "axes[0, 1].set_title('Income')\n",
    "\n",
    "sns.boxplot(df['CreditScore'], color='purple', ax=axes[0, 2])\n",
    "axes[0, 2].set_title('CreditScore')\n",
    "\n",
    "sns.boxplot(df['LoanAmount'], color='orange', ax=axes[1, 0])\n",
    "axes[1, 0].set_title('LoanAmount')\n",
    "\n",
    "sns.boxplot(df['MonthsEmployed'], color='yellow', ax=axes[1, 1])\n",
    "axes[1, 1].set_title('MonthsEmployed')\n",
    "\n",
    "sns.boxplot(df['NumCreditLines'], color='pink', ax=axes[1, 2])\n",
    "axes[1, 2].set_title('NumCreditLines')\n",
    "\n",
    "sns.boxplot(df['InterestRate'], color='cyan', ax=axes[2, 0])\n",
    "axes[2, 0].set_title('InterestRate')\n",
    "\n",
    "sns.boxplot(df['LoanTerm'], color='magenta', ax=axes[2, 1])\n",
    "axes[2, 1].set_title('LoanTerm')\n",
    "\n",
    "sns.boxplot(df['Default'], color='brown', ax=axes[2, 2])\n",
    "axes[2, 2].set_title('Default')\n",
    "\n",
    "plt.tight_layout()"
   ]
  },
  {
   "cell_type": "code",
   "execution_count": 17,
   "id": "1879758e",
   "metadata": {
    "scrolled": true
   },
   "outputs": [
    {
     "data": {
      "text/plain": [
       "<function matplotlib.pyplot.show(close=None, block=None)>"
      ]
     },
     "execution_count": 17,
     "metadata": {},
     "output_type": "execute_result"
    },
    {
     "data": {
      "image/png": "[encoded data removed]",
      "text/plain": [
       "<Figure size 864x720 with 2 Axes>"
      ]
     },
     "metadata": {
      "needs_background": "light"
     },
     "output_type": "display_data"
    }
   ],
   "source": [
    "numeric = df.select_dtypes(include=['float64','int64'])\n",
    "plt.figure(figsize=(12, 10))\n",
    "sns.heatmap(numeric.corr(), annot=True, linecolor='white', linewidths=2, cmap='Accent', annot_kws={\"size\":14} )\n",
    "plt.show"
   ]
  },
  {
   "cell_type": "code",
   "execution_count": 18,
   "id": "f5ac26a4",
   "metadata": {},
   "outputs": [
    {
     "data": {
      "text/plain": [
       "['Education',\n",
       " 'EmploymentType',\n",
       " 'MaritalStatus',\n",
       " 'HasMortgage',\n",
       " 'HasDependents',\n",
       " 'LoanPurpose',\n",
       " 'HasCoSigner']"
      ]
     },
     "execution_count": 18,
     "metadata": {},
     "output_type": "execute_result"
    }
   ],
   "source": [
    "#Analysis of categorical data\n",
    "categorical"
   ]
  },
  {
   "cell_type": "code",
   "execution_count": 19,
   "id": "707a0dd3",
   "metadata": {},
   "outputs": [],
   "source": [
    "def categorical_data(feature):\n",
    "    print(df[feature].value_counts())\n",
    "    fig, ax = plt.subplots(figsize = (3,3))\n",
    "    sns.countplot(x=feature, ax=ax, data=df)\n",
    "    plt.show()"
   ]
  },
  {
   "cell_type": "code",
   "execution_count": 20,
   "id": "a2c31e9f",
   "metadata": {},
   "outputs": [
    {
     "name": "stdout",
     "output_type": "stream",
     "text": [
      "High School    284\n",
      "Master's       248\n",
      "PhD            242\n",
      "Bachelor's     226\n",
      "Name: Education, dtype: int64\n"
     ]
    },
    {
     "data": {
      "image/png": "[encoded data removed]",
      "text/plain": [
       "<Figure size 216x216 with 1 Axes>"
      ]
     },
     "metadata": {
      "needs_background": "light"
     },
     "output_type": "display_data"
    }
   ],
   "source": [
    "categorical_data('Education')"
   ]
  },
  {
   "cell_type": "code",
   "execution_count": 21,
   "id": "a443e743",
   "metadata": {},
   "outputs": [
    {
     "name": "stdout",
     "output_type": "stream",
     "text": [
      "Widowed     268\n",
      "Single      257\n",
      "Divorced    255\n",
      "Married     220\n",
      "Name: MaritalStatus, dtype: int64\n"
     ]
    },
    {
     "data": {
      "image/png": "[encoded data removed]",
      "text/plain": [
       "<Figure size 216x216 with 1 Axes>"
      ]
     },
     "metadata": {
      "needs_background": "light"
     },
     "output_type": "display_data"
    }
   ],
   "source": [
    "categorical_data('MaritalStatus')"
   ]
  },
  {
   "cell_type": "code",
   "execution_count": 22,
   "id": "63b3f0f2",
   "metadata": {},
   "outputs": [
    {
     "name": "stdout",
     "output_type": "stream",
     "text": [
      "Unemployed       262\n",
      "Full-time        253\n",
      "Part-time        244\n",
      "Self-employed    241\n",
      "Name: EmploymentType, dtype: int64\n"
     ]
    },
    {
     "data": {
      "image/png": "[encoded data removed]",
      "text/plain": [
       "<Figure size 216x216 with 1 Axes>"
      ]
     },
     "metadata": {
      "needs_background": "light"
     },
     "output_type": "display_data"
    }
   ],
   "source": [
    "categorical_data('EmploymentType')"
   ]
  },
  {
   "cell_type": "code",
   "execution_count": 23,
   "id": "61c7a681",
   "metadata": {},
   "outputs": [
    {
     "name": "stdout",
     "output_type": "stream",
     "text": [
      "No     522\n",
      "Yes    478\n",
      "Name: HasMortgage, dtype: int64\n"
     ]
    },
    {
     "data": {
      "image/png": "[encoded data removed]",
      "text/plain": [
       "<Figure size 216x216 with 1 Axes>"
      ]
     },
     "metadata": {
      "needs_background": "light"
     },
     "output_type": "display_data"
    }
   ],
   "source": [
    "categorical_data('HasMortgage')"
   ]
  },
  {
   "cell_type": "code",
   "execution_count": 24,
   "id": "a99dbd6c",
   "metadata": {},
   "outputs": [
    {
     "name": "stdout",
     "output_type": "stream",
     "text": [
      "No     513\n",
      "Yes    487\n",
      "Name: HasDependents, dtype: int64\n"
     ]
    },
    {
     "data": {
      "image/png": "[encoded data removed]",
      "text/plain": [
       "<Figure size 216x216 with 1 Axes>"
      ]
     },
     "metadata": {
      "needs_background": "light"
     },
     "output_type": "display_data"
    }
   ],
   "source": [
    "categorical_data('HasDependents')"
   ]
  },
  {
   "cell_type": "code",
   "execution_count": 25,
   "id": "05e1add4",
   "metadata": {},
   "outputs": [
    {
     "name": "stdout",
     "output_type": "stream",
     "text": [
      "Home Improvement    221\n",
      "Auto                206\n",
      "Business            201\n",
      "Education           188\n",
      "Other               184\n",
      "Name: LoanPurpose, dtype: int64\n"
     ]
    },
    {
     "data": {
      "image/png": "[encoded data removed]",
      "text/plain": [
       "<Figure size 216x216 with 1 Axes>"
      ]
     },
     "metadata": {
      "needs_background": "light"
     },
     "output_type": "display_data"
    }
   ],
   "source": [
    "categorical_data('LoanPurpose')"
   ]
  },
  {
   "cell_type": "code",
   "execution_count": 26,
   "id": "d5db2b50",
   "metadata": {},
   "outputs": [
    {
     "name": "stdout",
     "output_type": "stream",
     "text": [
      "No     519\n",
      "Yes    481\n",
      "Name: HasCoSigner, dtype: int64\n"
     ]
    },
    {
     "data": {
      "image/png": "[encoded data removed]",
      "text/plain": [
       "<Figure size 216x216 with 1 Axes>"
      ]
     },
     "metadata": {
      "needs_background": "light"
     },
     "output_type": "display_data"
    }
   ],
   "source": [
    "categorical_data('HasCoSigner')"
   ]
  },
  {
   "cell_type": "markdown",
   "id": "35fa0162",
   "metadata": {},
   "source": [
    "Pair Analysis between the target variable and other data features"
   ]
  },
  {
   "cell_type": "code",
   "execution_count": 27,
   "id": "2a4b9323",
   "metadata": {},
   "outputs": [
    {
     "data": {
      "text/plain": [
       "Index(['LoanID', 'Age', 'Income', 'LoanAmount', 'CreditScore',\n",
       "       'MonthsEmployed', 'NumCreditLines', 'InterestRate', 'LoanTerm',\n",
       "       'DTIRatio', 'Education', 'EmploymentType', 'MaritalStatus',\n",
       "       'HasMortgage', 'HasDependents', 'LoanPurpose', 'HasCoSigner',\n",
       "       'Default'],\n",
       "      dtype='object')"
      ]
     },
     "execution_count": 27,
     "metadata": {},
     "output_type": "execute_result"
    }
   ],
   "source": [
    "df.columns"
   ]
  },
  {
   "cell_type": "code",
   "execution_count": 28,
   "id": "d1d68cf6",
   "metadata": {},
   "outputs": [],
   "source": [
    "def pair_analysis(df, feature_x, feature_y):\n",
    "    fig, ax = plt.subplots(figsize =(3,3))\n",
    "    sns.boxplot(x=feature_x, y=feature_y, data=df, ax=ax)\n",
    "    plt.show()"
   ]
  },
  {
   "cell_type": "code",
   "execution_count": 29,
   "id": "a12262e5",
   "metadata": {
    "scrolled": true
   },
   "outputs": [
    {
     "data": {
      "image/png": "[encoded data removed]",
      "text/plain": [
       "<Figure size 216x216 with 1 Axes>"
      ]
     },
     "metadata": {
      "needs_background": "light"
     },
     "output_type": "display_data"
    }
   ],
   "source": [
    "pair_analysis(df, 'Default', 'Age')"
   ]
  },
  {
   "cell_type": "code",
   "execution_count": 30,
   "id": "54728b41",
   "metadata": {},
   "outputs": [
    {
     "data": {
      "image/png": "[encoded data removed]",
      "text/plain": [
       "<Figure size 216x216 with 1 Axes>"
      ]
     },
     "metadata": {
      "needs_background": "light"
     },
     "output_type": "display_data"
    }
   ],
   "source": [
    "pair_analysis(df, 'Default', 'Income')"
   ]
  },
  {
   "cell_type": "code",
   "execution_count": 31,
   "id": "105761a0",
   "metadata": {},
   "outputs": [
    {
     "data": {
      "image/png": "[encoded data removed]",
      "text/plain": [
       "<Figure size 216x216 with 1 Axes>"
      ]
     },
     "metadata": {
      "needs_background": "light"
     },
     "output_type": "display_data"
    }
   ],
   "source": [
    "pair_analysis(df, 'Default', 'CreditScore')"
   ]
  },
  {
   "cell_type": "code",
   "execution_count": 32,
   "id": "90057561",
   "metadata": {
    "scrolled": true
   },
   "outputs": [
    {
     "data": {
      "image/png": "[encoded data removed]",
      "text/plain": [
       "<Figure size 216x216 with 1 Axes>"
      ]
     },
     "metadata": {
      "needs_background": "light"
     },
     "output_type": "display_data"
    }
   ],
   "source": [
    "pair_analysis(df, 'Default', 'LoanAmount')"
   ]
  },
  {
   "cell_type": "code",
   "execution_count": 33,
   "id": "7f1d93c1",
   "metadata": {},
   "outputs": [
    {
     "data": {
      "image/png": "[encoded data removed]",
      "text/plain": [
       "<Figure size 216x216 with 1 Axes>"
      ]
     },
     "metadata": {
      "needs_background": "light"
     },
     "output_type": "display_data"
    }
   ],
   "source": [
    "pair_analysis(df, 'Default', 'InterestRate')"
   ]
  },
  {
   "cell_type": "code",
   "execution_count": 34,
   "id": "d9b36b27",
   "metadata": {
    "scrolled": true
   },
   "outputs": [
    {
     "data": {
      "image/png": "[encoded data removed]",
      "text/plain": [
       "<Figure size 216x216 with 1 Axes>"
      ]
     },
     "metadata": {
      "needs_background": "light"
     },
     "output_type": "display_data"
    }
   ],
   "source": [
    "pair_analysis(df, 'Default', 'LoanTerm')"
   ]
  },
  {
   "cell_type": "code",
   "execution_count": 35,
   "id": "268e500e",
   "metadata": {},
   "outputs": [
    {
     "data": {
      "image/png": "[encoded data removed]",
      "text/plain": [
       "<Figure size 216x216 with 1 Axes>"
      ]
     },
     "metadata": {
      "needs_background": "light"
     },
     "output_type": "display_data"
    }
   ],
   "source": [
    "pair_analysis(df, 'Default', 'DTIRatio')"
   ]
  },
  {
   "cell_type": "markdown",
   "id": "94db1064-87b0-4e01-bcba-04ef87419e44",
   "metadata": {},
   "source": [
    "## Data preprocessing"
   ]
  },
  {
   "cell_type": "code",
   "execution_count": 36,
   "id": "f60a06aa-8372-470e-bfc4-afdf40e49e3b",
   "metadata": {},
   "outputs": [],
   "source": [
    "df = df.drop('LoanID', axis=1)"
   ]
  },
  {
   "cell_type": "code",
   "execution_count": 37,
   "id": "9a9ca4b8-328e-4f13-816c-4047e0747ec8",
   "metadata": {},
   "outputs": [
    {
     "data": {
      "text/plain": [
       "Index(['Age', 'Income', 'LoanAmount', 'CreditScore', 'MonthsEmployed',\n",
       "       'NumCreditLines', 'InterestRate', 'LoanTerm', 'DTIRatio', 'Education',\n",
       "       'EmploymentType', 'MaritalStatus', 'HasMortgage', 'HasDependents',\n",
       "       'LoanPurpose', 'HasCoSigner', 'Default'],\n",
       "      dtype='object')"
      ]
     },
     "execution_count": 37,
     "metadata": {},
     "output_type": "execute_result"
    }
   ],
   "source": [
    "df.columns"
   ]
  },
  {
   "cell_type": "code",
   "execution_count": 34,
   "id": "68cb2cb4-8d72-4272-a33c-ff57ad6b5abc",
   "metadata": {},
   "outputs": [],
   "source": [
    "# #changing float dtype to int\n",
    "# df['DTIRatio'] = df['DTIRatio'].apply(lambda x: int(x))"
   ]
  },
  {
   "cell_type": "code",
   "execution_count": 35,
   "id": "2f6037de-20d9-4686-8d8c-64a25d696b38",
   "metadata": {},
   "outputs": [],
   "source": [
    "# #changing float d.type to int\n",
    "# df['InterestRate'] = df['InterestRate'].apply(lambda x: int(x))"
   ]
  },
  {
   "cell_type": "code",
   "execution_count": 38,
   "id": "80ffe9cf-d1a4-4bb5-b545-e3cbabaa2bb6",
   "metadata": {},
   "outputs": [
    {
     "data": {
      "text/plain": [
       "Index(['Education', 'EmploymentType', 'MaritalStatus', 'HasMortgage',\n",
       "       'HasDependents', 'LoanPurpose', 'HasCoSigner'],\n",
       "      dtype='object')"
      ]
     },
     "execution_count": 38,
     "metadata": {},
     "output_type": "execute_result"
    }
   ],
   "source": [
    "#Getting the object dtypes only\n",
    "df.select_dtypes(['object']).columns"
   ]
  },
  {
   "cell_type": "code",
   "execution_count": null,
   "id": "4205c4d3-601b-4953-a8e8-6caac6ce320b",
   "metadata": {},
   "outputs": [],
   "source": []
  },
  {
   "cell_type": "code",
   "execution_count": 39,
   "id": "0b283298-13ad-4dd6-b11a-e6825101ae23",
   "metadata": {},
   "outputs": [],
   "source": [
    "#PreEncoding the data\n",
    "from sklearn.preprocessing import MinMaxScaler,StandardScaler,LabelEncoder,OneHotEncoder\n",
    "from sklearn.model_selection import train_test_split,cross_validate\n",
    "from sklearn.metrics import confusion_matrix, recall_score, classification_report"
   ]
  },
  {
   "cell_type": "code",
   "execution_count": 40,
   "id": "0a9c8b03-9370-4a03-a3a3-1b53c023d41f",
   "metadata": {},
   "outputs": [],
   "source": [
    "\n",
    "data = ['Education', 'EmploymentType', 'MaritalStatus', 'HasMortgage', 'HasDependents', 'LoanPurpose', 'HasCoSigner']\n",
    "\n",
    "# Create a label encoder object\n",
    "le = LabelEncoder()\n",
    "\n",
    "# Applying label encoder to each feature\n",
    "for data in data:\n",
    "    df[data] = le.fit_transform(df[data])\n"
   ]
  },
  {
   "cell_type": "code",
   "execution_count": 41,
   "id": "7b98c1d5-a32f-4dda-8422-b31e147d298e",
   "metadata": {},
   "outputs": [
    {
     "data": {
      "text/html": [
       "<div>\n",
       "<style scoped>\n",
       "    .dataframe tbody tr th:only-of-type {\n",
       "        vertical-align: middle;\n",
       "    }\n",
       "\n",
       "    .dataframe tbody tr th {\n",
       "        vertical-align: top;\n",
       "    }\n",
       "\n",
       "    .dataframe thead th {\n",
       "        text-align: right;\n",
       "    }\n",
       "</style>\n",
       "<table border=\"1\" class=\"dataframe\">\n",
       "  <thead>\n",
       "    <tr style=\"text-align: right;\">\n",
       "      <th></th>\n",
       "      <th>Age</th>\n",
       "      <th>Income</th>\n",
       "      <th>LoanAmount</th>\n",
       "      <th>CreditScore</th>\n",
       "      <th>MonthsEmployed</th>\n",
       "      <th>NumCreditLines</th>\n",
       "      <th>InterestRate</th>\n",
       "      <th>LoanTerm</th>\n",
       "      <th>DTIRatio</th>\n",
       "      <th>Education</th>\n",
       "      <th>EmploymentType</th>\n",
       "      <th>MaritalStatus</th>\n",
       "      <th>HasMortgage</th>\n",
       "      <th>HasDependents</th>\n",
       "      <th>LoanPurpose</th>\n",
       "      <th>HasCoSigner</th>\n",
       "      <th>Default</th>\n",
       "    </tr>\n",
       "  </thead>\n",
       "  <tbody>\n",
       "    <tr>\n",
       "      <th>0</th>\n",
       "      <td>56</td>\n",
       "      <td>138778</td>\n",
       "      <td>178895</td>\n",
       "      <td>401</td>\n",
       "      <td>64</td>\n",
       "      <td>9</td>\n",
       "      <td>3.04</td>\n",
       "      <td>12</td>\n",
       "      <td>0.32</td>\n",
       "      <td>2</td>\n",
       "      <td>2</td>\n",
       "      <td>3</td>\n",
       "      <td>0</td>\n",
       "      <td>1</td>\n",
       "      <td>4</td>\n",
       "      <td>0</td>\n",
       "      <td>1</td>\n",
       "    </tr>\n",
       "    <tr>\n",
       "      <th>1</th>\n",
       "      <td>69</td>\n",
       "      <td>72292</td>\n",
       "      <td>173280</td>\n",
       "      <td>805</td>\n",
       "      <td>82</td>\n",
       "      <td>7</td>\n",
       "      <td>11.28</td>\n",
       "      <td>24</td>\n",
       "      <td>0.51</td>\n",
       "      <td>0</td>\n",
       "      <td>3</td>\n",
       "      <td>2</td>\n",
       "      <td>1</td>\n",
       "      <td>1</td>\n",
       "      <td>2</td>\n",
       "      <td>0</td>\n",
       "      <td>0</td>\n",
       "    </tr>\n",
       "    <tr>\n",
       "      <th>2</th>\n",
       "      <td>46</td>\n",
       "      <td>33833</td>\n",
       "      <td>59061</td>\n",
       "      <td>546</td>\n",
       "      <td>153</td>\n",
       "      <td>5</td>\n",
       "      <td>15.56</td>\n",
       "      <td>36</td>\n",
       "      <td>0.67</td>\n",
       "      <td>0</td>\n",
       "      <td>3</td>\n",
       "      <td>1</td>\n",
       "      <td>0</td>\n",
       "      <td>0</td>\n",
       "      <td>4</td>\n",
       "      <td>0</td>\n",
       "      <td>0</td>\n",
       "    </tr>\n",
       "    <tr>\n",
       "      <th>3</th>\n",
       "      <td>32</td>\n",
       "      <td>145230</td>\n",
       "      <td>166731</td>\n",
       "      <td>836</td>\n",
       "      <td>265</td>\n",
       "      <td>8</td>\n",
       "      <td>13.53</td>\n",
       "      <td>12</td>\n",
       "      <td>0.60</td>\n",
       "      <td>0</td>\n",
       "      <td>0</td>\n",
       "      <td>0</td>\n",
       "      <td>0</td>\n",
       "      <td>1</td>\n",
       "      <td>1</td>\n",
       "      <td>1</td>\n",
       "      <td>1</td>\n",
       "    </tr>\n",
       "    <tr>\n",
       "      <th>4</th>\n",
       "      <td>60</td>\n",
       "      <td>30309</td>\n",
       "      <td>106376</td>\n",
       "      <td>430</td>\n",
       "      <td>308</td>\n",
       "      <td>2</td>\n",
       "      <td>21.97</td>\n",
       "      <td>60</td>\n",
       "      <td>0.77</td>\n",
       "      <td>2</td>\n",
       "      <td>1</td>\n",
       "      <td>3</td>\n",
       "      <td>0</td>\n",
       "      <td>0</td>\n",
       "      <td>3</td>\n",
       "      <td>0</td>\n",
       "      <td>0</td>\n",
       "    </tr>\n",
       "    <tr>\n",
       "      <th>...</th>\n",
       "      <td>...</td>\n",
       "      <td>...</td>\n",
       "      <td>...</td>\n",
       "      <td>...</td>\n",
       "      <td>...</td>\n",
       "      <td>...</td>\n",
       "      <td>...</td>\n",
       "      <td>...</td>\n",
       "      <td>...</td>\n",
       "      <td>...</td>\n",
       "      <td>...</td>\n",
       "      <td>...</td>\n",
       "      <td>...</td>\n",
       "      <td>...</td>\n",
       "      <td>...</td>\n",
       "      <td>...</td>\n",
       "      <td>...</td>\n",
       "    </tr>\n",
       "    <tr>\n",
       "      <th>995</th>\n",
       "      <td>18</td>\n",
       "      <td>38625</td>\n",
       "      <td>120357</td>\n",
       "      <td>358</td>\n",
       "      <td>107</td>\n",
       "      <td>7</td>\n",
       "      <td>14.46</td>\n",
       "      <td>60</td>\n",
       "      <td>0.63</td>\n",
       "      <td>0</td>\n",
       "      <td>0</td>\n",
       "      <td>2</td>\n",
       "      <td>1</td>\n",
       "      <td>0</td>\n",
       "      <td>2</td>\n",
       "      <td>0</td>\n",
       "      <td>1</td>\n",
       "    </tr>\n",
       "    <tr>\n",
       "      <th>996</th>\n",
       "      <td>35</td>\n",
       "      <td>34089</td>\n",
       "      <td>124052</td>\n",
       "      <td>807</td>\n",
       "      <td>331</td>\n",
       "      <td>9</td>\n",
       "      <td>13.32</td>\n",
       "      <td>48</td>\n",
       "      <td>0.18</td>\n",
       "      <td>2</td>\n",
       "      <td>0</td>\n",
       "      <td>1</td>\n",
       "      <td>1</td>\n",
       "      <td>0</td>\n",
       "      <td>0</td>\n",
       "      <td>1</td>\n",
       "      <td>1</td>\n",
       "    </tr>\n",
       "    <tr>\n",
       "      <th>997</th>\n",
       "      <td>49</td>\n",
       "      <td>46487</td>\n",
       "      <td>61481</td>\n",
       "      <td>557</td>\n",
       "      <td>89</td>\n",
       "      <td>5</td>\n",
       "      <td>4.56</td>\n",
       "      <td>36</td>\n",
       "      <td>0.49</td>\n",
       "      <td>0</td>\n",
       "      <td>2</td>\n",
       "      <td>2</td>\n",
       "      <td>1</td>\n",
       "      <td>0</td>\n",
       "      <td>1</td>\n",
       "      <td>0</td>\n",
       "      <td>0</td>\n",
       "    </tr>\n",
       "    <tr>\n",
       "      <th>998</th>\n",
       "      <td>64</td>\n",
       "      <td>120448</td>\n",
       "      <td>6283</td>\n",
       "      <td>712</td>\n",
       "      <td>204</td>\n",
       "      <td>5</td>\n",
       "      <td>21.00</td>\n",
       "      <td>12</td>\n",
       "      <td>0.26</td>\n",
       "      <td>1</td>\n",
       "      <td>3</td>\n",
       "      <td>2</td>\n",
       "      <td>1</td>\n",
       "      <td>1</td>\n",
       "      <td>2</td>\n",
       "      <td>0</td>\n",
       "      <td>0</td>\n",
       "    </tr>\n",
       "    <tr>\n",
       "      <th>999</th>\n",
       "      <td>66</td>\n",
       "      <td>60138</td>\n",
       "      <td>38691</td>\n",
       "      <td>751</td>\n",
       "      <td>219</td>\n",
       "      <td>4</td>\n",
       "      <td>10.39</td>\n",
       "      <td>36</td>\n",
       "      <td>0.99</td>\n",
       "      <td>3</td>\n",
       "      <td>3</td>\n",
       "      <td>2</td>\n",
       "      <td>1</td>\n",
       "      <td>0</td>\n",
       "      <td>0</td>\n",
       "      <td>0</td>\n",
       "      <td>1</td>\n",
       "    </tr>\n",
       "  </tbody>\n",
       "</table>\n",
       "<p>1000 rows × 17 columns</p>\n",
       "</div>"
      ],
      "text/plain": [
       "     Age  Income  LoanAmount  CreditScore  MonthsEmployed  NumCreditLines  \\\n",
       "0     56  138778      178895          401              64               9   \n",
       "1     69   72292      173280          805              82               7   \n",
       "2     46   33833       59061          546             153               5   \n",
       "3     32  145230      166731          836             265               8   \n",
       "4     60   30309      106376          430             308               2   \n",
       "..   ...     ...         ...          ...             ...             ...   \n",
       "995   18   38625      120357          358             107               7   \n",
       "996   35   34089      124052          807             331               9   \n",
       "997   49   46487       61481          557              89               5   \n",
       "998   64  120448        6283          712             204               5   \n",
       "999   66   60138       38691          751             219               4   \n",
       "\n",
       "     InterestRate  LoanTerm  DTIRatio  Education  EmploymentType  \\\n",
       "0            3.04        12      0.32          2               2   \n",
       "1           11.28        24      0.51          0               3   \n",
       "2           15.56        36      0.67          0               3   \n",
       "3           13.53        12      0.60          0               0   \n",
       "4           21.97        60      0.77          2               1   \n",
       "..            ...       ...       ...        ...             ...   \n",
       "995         14.46        60      0.63          0               0   \n",
       "996         13.32        48      0.18          2               0   \n",
       "997          4.56        36      0.49          0               2   \n",
       "998         21.00        12      0.26          1               3   \n",
       "999         10.39        36      0.99          3               3   \n",
       "\n",
       "     MaritalStatus  HasMortgage  HasDependents  LoanPurpose  HasCoSigner  \\\n",
       "0                3            0              1            4            0   \n",
       "1                2            1              1            2            0   \n",
       "2                1            0              0            4            0   \n",
       "3                0            0              1            1            1   \n",
       "4                3            0              0            3            0   \n",
       "..             ...          ...            ...          ...          ...   \n",
       "995              2            1              0            2            0   \n",
       "996              1            1              0            0            1   \n",
       "997              2            1              0            1            0   \n",
       "998              2            1              1            2            0   \n",
       "999              2            1              0            0            0   \n",
       "\n",
       "     Default  \n",
       "0          1  \n",
       "1          0  \n",
       "2          0  \n",
       "3          1  \n",
       "4          0  \n",
       "..       ...  \n",
       "995        1  \n",
       "996        1  \n",
       "997        0  \n",
       "998        0  \n",
       "999        1  \n",
       "\n",
       "[1000 rows x 17 columns]"
      ]
     },
     "execution_count": 41,
     "metadata": {},
     "output_type": "execute_result"
    }
   ],
   "source": [
    "df"
   ]
  },
  {
   "cell_type": "markdown",
   "id": "06e292ff",
   "metadata": {},
   "source": [
    "## Creating and Training model to perform predictions"
   ]
  },
  {
   "cell_type": "code",
   "execution_count": 42,
   "id": "10c89c45-4bf5-43c5-a4ce-6bc0f0c2c786",
   "metadata": {},
   "outputs": [],
   "source": [
    "import tensorflow as tf\n",
    "from tensorflow.keras.models import Sequential\n",
    "from tensorflow.keras.layers import Dense, Activation,Dropout\n",
    "from tensorflow.keras.constraints import max_norm"
   ]
  },
  {
   "cell_type": "code",
   "execution_count": 41,
   "id": "071a63bb",
   "metadata": {
    "scrolled": true
   },
   "outputs": [],
   "source": [
    "X = df.drop('Default', axis=1).values\n",
    "y = df['Default'].values"
   ]
  },
  {
   "cell_type": "markdown",
   "id": "f98e2c97-7523-44c2-982f-3f55e9929d57",
   "metadata": {},
   "source": [
    "## Train Test split"
   ]
  },
  {
   "cell_type": "code",
   "execution_count": 42,
   "id": "cad8a24c",
   "metadata": {},
   "outputs": [],
   "source": [
    "#splitting the data into train and test dataset\n",
    "X_train, X_test, y_train, y_test = train_test_split(X,y, test_size =0.3, random_state = 102)"
   ]
  },
  {
   "cell_type": "markdown",
   "id": "eae58c14-f64d-4911-a050-c77f712c2b3d",
   "metadata": {},
   "source": [
    "## Scaling the Data"
   ]
  },
  {
   "cell_type": "code",
   "execution_count": 43,
   "id": "b529ec04-14ee-472b-badb-93d41a537390",
   "metadata": {},
   "outputs": [
    {
     "data": {
      "text/html": [
       "<style>#sk-container-id-1 {color: black;}#sk-container-id-1 pre{padding: 0;}#sk-container-id-1 div.sk-toggleable {background-color: white;}#sk-container-id-1 label.sk-toggleable__label {cursor: pointer;display: block;width: 100%;margin-bottom: 0;padding: 0.3em;box-sizing: border-box;text-align: center;}#sk-container-id-1 label.sk-toggleable__label-arrow:before {content: \"▸\";float: left;margin-right: 0.25em;color: #696969;}#sk-container-id-1 label.sk-toggleable__label-arrow:hover:before {color: black;}#sk-container-id-1 div.sk-estimator:hover label.sk-toggleable__label-arrow:before {color: black;}#sk-container-id-1 div.sk-toggleable__content {max-height: 0;max-width: 0;overflow: hidden;text-align: left;background-color: #f0f8ff;}#sk-container-id-1 div.sk-toggleable__content pre {margin: 0.2em;color: black;border-radius: 0.25em;background-color: #f0f8ff;}#sk-container-id-1 input.sk-toggleable__control:checked~div.sk-toggleable__content {max-height: 200px;max-width: 100%;overflow: auto;}#sk-container-id-1 input.sk-toggleable__control:checked~label.sk-toggleable__label-arrow:before {content: \"▾\";}#sk-container-id-1 div.sk-estimator input.sk-toggleable__control:checked~label.sk-toggleable__label {background-color: #d4ebff;}#sk-container-id-1 div.sk-label input.sk-toggleable__control:checked~label.sk-toggleable__label {background-color: #d4ebff;}#sk-container-id-1 input.sk-hidden--visually {border: 0;clip: rect(1px 1px 1px 1px);clip: rect(1px, 1px, 1px, 1px);height: 1px;margin: -1px;overflow: hidden;padding: 0;position: absolute;width: 1px;}#sk-container-id-1 div.sk-estimator {font-family: monospace;background-color: #f0f8ff;border: 1px dotted black;border-radius: 0.25em;box-sizing: border-box;margin-bottom: 0.5em;}#sk-container-id-1 div.sk-estimator:hover {background-color: #d4ebff;}#sk-container-id-1 div.sk-parallel-item::after {content: \"\";width: 100%;border-bottom: 1px solid gray;flex-grow: 1;}#sk-container-id-1 div.sk-label:hover label.sk-toggleable__label {background-color: #d4ebff;}#sk-container-id-1 div.sk-serial::before {content: \"\";position: absolute;border-left: 1px solid gray;box-sizing: border-box;top: 0;bottom: 0;left: 50%;z-index: 0;}#sk-container-id-1 div.sk-serial {display: flex;flex-direction: column;align-items: center;background-color: white;padding-right: 0.2em;padding-left: 0.2em;position: relative;}#sk-container-id-1 div.sk-item {position: relative;z-index: 1;}#sk-container-id-1 div.sk-parallel {display: flex;align-items: stretch;justify-content: center;background-color: white;position: relative;}#sk-container-id-1 div.sk-item::before, #sk-container-id-1 div.sk-parallel-item::before {content: \"\";position: absolute;border-left: 1px solid gray;box-sizing: border-box;top: 0;bottom: 0;left: 50%;z-index: -1;}#sk-container-id-1 div.sk-parallel-item {display: flex;flex-direction: column;z-index: 1;position: relative;background-color: white;}#sk-container-id-1 div.sk-parallel-item:first-child::after {align-self: flex-end;width: 50%;}#sk-container-id-1 div.sk-parallel-item:last-child::after {align-self: flex-start;width: 50%;}#sk-container-id-1 div.sk-parallel-item:only-child::after {width: 0;}#sk-container-id-1 div.sk-dashed-wrapped {border: 1px dashed gray;margin: 0 0.4em 0.5em 0.4em;box-sizing: border-box;padding-bottom: 0.4em;background-color: white;}#sk-container-id-1 div.sk-label label {font-family: monospace;font-weight: bold;display: inline-block;line-height: 1.2em;}#sk-container-id-1 div.sk-label-container {text-align: center;}#sk-container-id-1 div.sk-container {/* jupyter's `normalize.less` sets `[hidden] { display: none; }` but bootstrap.min.css set `[hidden] { display: none !important; }` so we also need the `!important` here to be able to override the default hidden behavior on the sphinx rendered scikit-learn.org. See: https://github.com/scikit-learn/scikit-learn/issues/21755 */display: inline-block !important;position: relative;}#sk-container-id-1 div.sk-text-repr-fallback {display: none;}</style><div id=\"sk-container-id-1\" class=\"sk-top-container\"><div class=\"sk-text-repr-fallback\"><pre>MinMaxScaler()</pre><b>In a Jupyter environment, please rerun this cell to show the HTML representation or trust the notebook. <br />On GitHub, the HTML representation is unable to render, please try loading this page with nbviewer.org.</b></div><div class=\"sk-container\" hidden><div class=\"sk-item\"><div class=\"sk-estimator sk-toggleable\"><input class=\"sk-toggleable__control sk-hidden--visually\" id=\"sk-estimator-id-1\" type=\"checkbox\" checked><label for=\"sk-estimator-id-1\" class=\"sk-toggleable__label sk-toggleable__label-arrow\">MinMaxScaler</label><div class=\"sk-toggleable__content\"><pre>MinMaxScaler()</pre></div></div></div></div></div>"
      ],
      "text/plain": [
       "MinMaxScaler()"
      ]
     },
     "execution_count": 43,
     "metadata": {},
     "output_type": "execute_result"
    }
   ],
   "source": [
    "scaler = MinMaxScaler()\n",
    "X_train = scaler.fit_transform(X_train)\n",
    "X_test = scaler.transform(X_test)\n",
    "MinMaxScaler(copy=True, feature_range=(0, 1))"
   ]
  },
  {
   "cell_type": "code",
   "execution_count": 44,
   "id": "970e257b-bea1-4be9-837e-ae720a8d2b57",
   "metadata": {},
   "outputs": [
    {
     "data": {
      "text/plain": [
       "(178742, 16)"
      ]
     },
     "execution_count": 44,
     "metadata": {},
     "output_type": "execute_result"
    }
   ],
   "source": [
    "X_train.shape"
   ]
  },
  {
   "cell_type": "markdown",
   "id": "5a6500ea-36ef-43b6-b0f7-666683ac93bf",
   "metadata": {},
   "source": [
    "## Creating the Model"
   ]
  },
  {
   "cell_type": "code",
   "execution_count": 45,
   "id": "350418c6-be31-4cac-883d-c20546f8fe52",
   "metadata": {
    "scrolled": true
   },
   "outputs": [
    {
     "name": "stdout",
     "output_type": "stream",
     "text": [
      "WARNING:tensorflow:From C:\\Users\\pc\\anaconda3\\lib\\site-packages\\keras\\src\\backend.py:873: The name tf.get_default_graph is deprecated. Please use tf.compat.v1.get_default_graph instead.\n",
      "\n",
      "WARNING:tensorflow:From C:\\Users\\pc\\anaconda3\\lib\\site-packages\\keras\\src\\optimizers\\__init__.py:309: The name tf.train.Optimizer is deprecated. Please use tf.compat.v1.train.Optimizer instead.\n",
      "\n",
      "Epoch 1/100\n",
      "WARNING:tensorflow:From C:\\Users\\pc\\anaconda3\\lib\\site-packages\\keras\\src\\utils\\tf_utils.py:492: The name tf.ragged.RaggedTensorValue is deprecated. Please use tf.compat.v1.ragged.RaggedTensorValue instead.\n",
      "\n",
      "699/699 [==============================] - 9s 5ms/step - loss: 0.3280 - val_loss: 0.3202\n",
      "Epoch 2/100\n",
      "699/699 [==============================] - 3s 5ms/step - loss: 0.3152 - val_loss: 0.3168\n",
      "Epoch 3/100\n",
      "699/699 [==============================] - 3s 4ms/step - loss: 0.3135 - val_loss: 0.3160\n",
      "Epoch 4/100\n",
      "699/699 [==============================] - 4s 6ms/step - loss: 0.3130 - val_loss: 0.3155\n",
      "Epoch 5/100\n",
      "699/699 [==============================] - 4s 6ms/step - loss: 0.3125 - val_loss: 0.3152\n",
      "Epoch 6/100\n",
      "699/699 [==============================] - 4s 6ms/step - loss: 0.3122 - val_loss: 0.3152\n",
      "Epoch 7/100\n",
      "699/699 [==============================] - 3s 4ms/step - loss: 0.3120 - val_loss: 0.3160\n",
      "Epoch 8/100\n",
      "699/699 [==============================] - 3s 4ms/step - loss: 0.3118 - val_loss: 0.3161\n",
      "Epoch 9/100\n",
      "699/699 [==============================] - 3s 5ms/step - loss: 0.3118 - val_loss: 0.3156\n",
      "Epoch 10/100\n",
      "699/699 [==============================] - 3s 4ms/step - loss: 0.3115 - val_loss: 0.3157\n",
      "Epoch 11/100\n",
      "699/699 [==============================] - 2s 3ms/step - loss: 0.3112 - val_loss: 0.3150\n",
      "Epoch 12/100\n",
      "699/699 [==============================] - 2s 4ms/step - loss: 0.3111 - val_loss: 0.3156\n",
      "Epoch 13/100\n",
      "699/699 [==============================] - 3s 4ms/step - loss: 0.3110 - val_loss: 0.3149\n",
      "Epoch 14/100\n",
      "699/699 [==============================] - 3s 4ms/step - loss: 0.3107 - val_loss: 0.3155\n",
      "Epoch 15/100\n",
      "699/699 [==============================] - 3s 4ms/step - loss: 0.3107 - val_loss: 0.3150\n",
      "Epoch 16/100\n",
      "699/699 [==============================] - 3s 4ms/step - loss: 0.3105 - val_loss: 0.3151\n",
      "Epoch 17/100\n",
      "699/699 [==============================] - 3s 4ms/step - loss: 0.3103 - val_loss: 0.3171\n",
      "Epoch 18/100\n",
      "699/699 [==============================] - 2s 3ms/step - loss: 0.3101 - val_loss: 0.3164\n",
      "Epoch 19/100\n",
      "699/699 [==============================] - 2s 3ms/step - loss: 0.3100 - val_loss: 0.3152\n",
      "Epoch 20/100\n",
      "699/699 [==============================] - 3s 4ms/step - loss: 0.3098 - val_loss: 0.3157\n",
      "Epoch 21/100\n",
      "699/699 [==============================] - 3s 4ms/step - loss: 0.3097 - val_loss: 0.3157\n",
      "Epoch 22/100\n",
      "699/699 [==============================] - 3s 4ms/step - loss: 0.3095 - val_loss: 0.3163\n",
      "Epoch 23/100\n",
      "699/699 [==============================] - 2s 4ms/step - loss: 0.3094 - val_loss: 0.3157\n",
      "Epoch 24/100\n",
      "699/699 [==============================] - 2s 3ms/step - loss: 0.3092 - val_loss: 0.3155\n",
      "Epoch 25/100\n",
      "699/699 [==============================] - 3s 4ms/step - loss: 0.3091 - val_loss: 0.3164\n",
      "Epoch 26/100\n",
      "699/699 [==============================] - 3s 5ms/step - loss: 0.3090 - val_loss: 0.3161\n",
      "Epoch 27/100\n",
      "699/699 [==============================] - 4s 6ms/step - loss: 0.3088 - val_loss: 0.3164\n",
      "Epoch 28/100\n",
      "699/699 [==============================] - 3s 4ms/step - loss: 0.3086 - val_loss: 0.3165\n",
      "Epoch 29/100\n",
      "699/699 [==============================] - 3s 4ms/step - loss: 0.3084 - val_loss: 0.3173\n",
      "Epoch 30/100\n",
      "699/699 [==============================] - 3s 4ms/step - loss: 0.3083 - val_loss: 0.3166\n",
      "Epoch 31/100\n",
      "699/699 [==============================] - 3s 4ms/step - loss: 0.3079 - val_loss: 0.3165\n",
      "Epoch 32/100\n",
      "699/699 [==============================] - 3s 5ms/step - loss: 0.3080 - val_loss: 0.3167\n",
      "Epoch 33/100\n",
      "699/699 [==============================] - 3s 4ms/step - loss: 0.3078 - val_loss: 0.3168\n",
      "Epoch 34/100\n",
      "699/699 [==============================] - 3s 4ms/step - loss: 0.3076 - val_loss: 0.3167\n",
      "Epoch 35/100\n",
      "699/699 [==============================] - 3s 4ms/step - loss: 0.3073 - val_loss: 0.3192\n",
      "Epoch 36/100\n",
      "699/699 [==============================] - 3s 4ms/step - loss: 0.3073 - val_loss: 0.3179\n",
      "Epoch 37/100\n",
      "699/699 [==============================] - 3s 4ms/step - loss: 0.3071 - val_loss: 0.3172\n",
      "Epoch 38/100\n",
      "699/699 [==============================] - 3s 4ms/step - loss: 0.3070 - val_loss: 0.3172\n",
      "Epoch 39/100\n",
      "699/699 [==============================] - 3s 4ms/step - loss: 0.3066 - val_loss: 0.3180\n",
      "Epoch 40/100\n",
      "699/699 [==============================] - 3s 4ms/step - loss: 0.3065 - val_loss: 0.3181\n",
      "Epoch 41/100\n",
      "699/699 [==============================] - 2s 3ms/step - loss: 0.3063 - val_loss: 0.3187\n",
      "Epoch 42/100\n",
      "699/699 [==============================] - 3s 4ms/step - loss: 0.3060 - val_loss: 0.3179\n",
      "Epoch 43/100\n",
      "699/699 [==============================] - 3s 4ms/step - loss: 0.3058 - val_loss: 0.3180\n",
      "Epoch 44/100\n",
      "699/699 [==============================] - 3s 5ms/step - loss: 0.3055 - val_loss: 0.3181\n",
      "Epoch 45/100\n",
      "699/699 [==============================] - 3s 4ms/step - loss: 0.3053 - val_loss: 0.3186\n",
      "Epoch 46/100\n",
      "699/699 [==============================] - 2s 3ms/step - loss: 0.3052 - val_loss: 0.3201\n",
      "Epoch 47/100\n",
      "699/699 [==============================] - 2s 3ms/step - loss: 0.3050 - val_loss: 0.3196\n",
      "Epoch 48/100\n",
      "699/699 [==============================] - 3s 4ms/step - loss: 0.3047 - val_loss: 0.3199\n",
      "Epoch 49/100\n",
      "699/699 [==============================] - 3s 4ms/step - loss: 0.3045 - val_loss: 0.3197\n",
      "Epoch 50/100\n",
      "699/699 [==============================] - 3s 4ms/step - loss: 0.3043 - val_loss: 0.3215\n",
      "Epoch 51/100\n",
      "699/699 [==============================] - 2s 4ms/step - loss: 0.3042 - val_loss: 0.3196\n",
      "Epoch 52/100\n",
      "699/699 [==============================] - 3s 4ms/step - loss: 0.3040 - val_loss: 0.3200\n",
      "Epoch 53/100\n",
      "699/699 [==============================] - 3s 4ms/step - loss: 0.3036 - val_loss: 0.3211\n",
      "Epoch 54/100\n",
      "699/699 [==============================] - 3s 4ms/step - loss: 0.3033 - val_loss: 0.3200\n",
      "Epoch 55/100\n",
      "699/699 [==============================] - 3s 4ms/step - loss: 0.3032 - val_loss: 0.3209\n",
      "Epoch 56/100\n",
      "699/699 [==============================] - 3s 4ms/step - loss: 0.3030 - val_loss: 0.3203\n",
      "Epoch 57/100\n",
      "699/699 [==============================] - 3s 4ms/step - loss: 0.3027 - val_loss: 0.3218\n",
      "Epoch 58/100\n",
      "699/699 [==============================] - 2s 3ms/step - loss: 0.3027 - val_loss: 0.3225\n",
      "Epoch 59/100\n",
      "699/699 [==============================] - 2s 3ms/step - loss: 0.3023 - val_loss: 0.3211\n",
      "Epoch 60/100\n",
      "699/699 [==============================] - 3s 4ms/step - loss: 0.3021 - val_loss: 0.3225\n",
      "Epoch 61/100\n",
      "699/699 [==============================] - 3s 4ms/step - loss: 0.3021 - val_loss: 0.3221\n",
      "Epoch 62/100\n",
      "699/699 [==============================] - 3s 4ms/step - loss: 0.3017 - val_loss: 0.3224\n",
      "Epoch 63/100\n",
      "699/699 [==============================] - 2s 4ms/step - loss: 0.3015 - val_loss: 0.3232\n",
      "Epoch 64/100\n",
      "699/699 [==============================] - 3s 4ms/step - loss: 0.3013 - val_loss: 0.3207\n",
      "Epoch 65/100\n",
      "699/699 [==============================] - 2s 3ms/step - loss: 0.3011 - val_loss: 0.3237\n",
      "Epoch 66/100\n",
      "699/699 [==============================] - 3s 4ms/step - loss: 0.3009 - val_loss: 0.3223\n",
      "Epoch 67/100\n",
      "699/699 [==============================] - 3s 4ms/step - loss: 0.3006 - val_loss: 0.3237\n",
      "Epoch 68/100\n",
      "699/699 [==============================] - 3s 4ms/step - loss: 0.3004 - val_loss: 0.3249\n",
      "Epoch 69/100\n",
      "699/699 [==============================] - 3s 5ms/step - loss: 0.3002 - val_loss: 0.3235\n",
      "Epoch 70/100\n",
      "699/699 [==============================] - 3s 4ms/step - loss: 0.3000 - val_loss: 0.3238\n",
      "Epoch 71/100\n",
      "699/699 [==============================] - 3s 5ms/step - loss: 0.3000 - val_loss: 0.3252\n",
      "Epoch 72/100\n",
      "699/699 [==============================] - 4s 5ms/step - loss: 0.2996 - val_loss: 0.3263\n",
      "Epoch 73/100\n",
      "699/699 [==============================] - 3s 5ms/step - loss: 0.2995 - val_loss: 0.3237\n",
      "Epoch 74/100\n",
      "699/699 [==============================] - 3s 5ms/step - loss: 0.2993 - val_loss: 0.3257\n",
      "Epoch 75/100\n",
      "699/699 [==============================] - 3s 4ms/step - loss: 0.2991 - val_loss: 0.3238\n",
      "Epoch 76/100\n",
      "699/699 [==============================] - 3s 5ms/step - loss: 0.2988 - val_loss: 0.3263\n",
      "Epoch 77/100\n",
      "699/699 [==============================] - 3s 5ms/step - loss: 0.2986 - val_loss: 0.3270\n",
      "Epoch 78/100\n",
      "699/699 [==============================] - 3s 4ms/step - loss: 0.2987 - val_loss: 0.3263\n",
      "Epoch 79/100\n",
      "699/699 [==============================] - 2s 3ms/step - loss: 0.2982 - val_loss: 0.3277\n",
      "Epoch 80/100\n",
      "699/699 [==============================] - 2s 4ms/step - loss: 0.2981 - val_loss: 0.3267\n",
      "Epoch 81/100\n",
      "699/699 [==============================] - 2s 3ms/step - loss: 0.2979 - val_loss: 0.3254\n",
      "Epoch 82/100\n",
      "699/699 [==============================] - 3s 4ms/step - loss: 0.2977 - val_loss: 0.3257\n",
      "Epoch 83/100\n",
      "699/699 [==============================] - 3s 4ms/step - loss: 0.2975 - val_loss: 0.3273\n",
      "Epoch 84/100\n",
      "699/699 [==============================] - 3s 4ms/step - loss: 0.2972 - val_loss: 0.3272\n",
      "Epoch 85/100\n",
      "699/699 [==============================] - 2s 4ms/step - loss: 0.2968 - val_loss: 0.3278\n",
      "Epoch 86/100\n",
      "699/699 [==============================] - 3s 4ms/step - loss: 0.2970 - val_loss: 0.3284\n",
      "Epoch 87/100\n",
      "699/699 [==============================] - 2s 3ms/step - loss: 0.2969 - val_loss: 0.3284\n",
      "Epoch 88/100\n",
      "699/699 [==============================] - 3s 4ms/step - loss: 0.2965 - val_loss: 0.3279\n",
      "Epoch 89/100\n",
      "699/699 [==============================] - 3s 4ms/step - loss: 0.2965 - val_loss: 0.3303\n",
      "Epoch 90/100\n",
      "699/699 [==============================] - 3s 4ms/step - loss: 0.2963 - val_loss: 0.3270\n",
      "Epoch 91/100\n",
      "699/699 [==============================] - 2s 3ms/step - loss: 0.2961 - val_loss: 0.3302\n",
      "Epoch 92/100\n",
      "699/699 [==============================] - 2s 3ms/step - loss: 0.2960 - val_loss: 0.3296\n",
      "Epoch 93/100\n",
      "699/699 [==============================] - 3s 4ms/step - loss: 0.2956 - val_loss: 0.3299\n",
      "Epoch 94/100\n",
      "699/699 [==============================] - 3s 5ms/step - loss: 0.2956 - val_loss: 0.3298\n",
      "Epoch 95/100\n",
      "699/699 [==============================] - 3s 4ms/step - loss: 0.2955 - val_loss: 0.3302\n",
      "Epoch 96/100\n",
      "699/699 [==============================] - 3s 4ms/step - loss: 0.2953 - val_loss: 0.3312\n",
      "Epoch 97/100\n",
      "699/699 [==============================] - 2s 4ms/step - loss: 0.2952 - val_loss: 0.3298\n",
      "Epoch 98/100\n",
      "699/699 [==============================] - 3s 4ms/step - loss: 0.2950 - val_loss: 0.3310\n",
      "Epoch 99/100\n",
      "699/699 [==============================] - 2s 3ms/step - loss: 0.2949 - val_loss: 0.3331\n",
      "Epoch 100/100\n",
      "699/699 [==============================] - 3s 4ms/step - loss: 0.2948 - val_loss: 0.3318\n"
     ]
    },
    {
     "data": {
      "text/plain": [
       "<keras.src.callbacks.History at 0x1b45130a9e0>"
      ]
     },
     "execution_count": 45,
     "metadata": {},
     "output_type": "execute_result"
    }
   ],
   "source": [
    "#creating the sequential model with keras and adding layers\n",
    "model = Sequential()\n",
    "\n",
    "#the inner layer\n",
    "model.add(Dense(82, activation='relu'))\n",
    "#hidden layer\n",
    "model.add(Dense(41, activation='relu'))\n",
    "model.add(Dense(20, activation='relu'))\n",
    "\n",
    "#Output layer\n",
    "model.add(Dense(units=1, activation='sigmoid'))\n",
    "\n",
    "#Binary classification compiling model\n",
    "model.compile(optimizer='adam', loss='binary_crossentropy')\n",
    "\n",
    "#Training the model\n",
    "model.fit(x=X_train, y=y_train,validation_data = (X_test, y_test),\n",
    "         verbose=1,batch_size=256, epochs=100)"
   ]
  },
  {
   "cell_type": "code",
   "execution_count": 46,
   "id": "4503bb14-0487-4267-a595-65e9325abba3",
   "metadata": {
    "scrolled": true
   },
   "outputs": [
    {
     "data": {
      "text/plain": [
       "{'loss': [0.3279741108417511,\n",
       "  0.31519901752471924,\n",
       "  0.31353628635406494,\n",
       "  0.31300070881843567,\n",
       "  0.31251654028892517,\n",
       "  0.31218111515045166,\n",
       "  0.31198740005493164,\n",
       "  0.31178197264671326,\n",
       "  0.3117700517177582,\n",
       "  0.31152328848838806,\n",
       "  0.3111567795276642,\n",
       "  0.3110690414905548,\n",
       "  0.3109729290008545,\n",
       "  0.3106673061847687,\n",
       "  0.31066280603408813,\n",
       "  0.31051191687583923,\n",
       "  0.31026092171669006,\n",
       "  0.3100844621658325,\n",
       "  0.3099803328514099,\n",
       "  0.30981141328811646,\n",
       "  0.30966368317604065,\n",
       "  0.309477299451828,\n",
       "  0.3094383180141449,\n",
       "  0.3091827929019928,\n",
       "  0.3090920150279999,\n",
       "  0.3089603781700134,\n",
       "  0.3088265359401703,\n",
       "  0.3086172342300415,\n",
       "  0.3084017038345337,\n",
       "  0.3083406388759613,\n",
       "  0.3079237937927246,\n",
       "  0.3079667389392853,\n",
       "  0.30782243609428406,\n",
       "  0.307574599981308,\n",
       "  0.30730965733528137,\n",
       "  0.30726131796836853,\n",
       "  0.3070681691169739,\n",
       "  0.3070240318775177,\n",
       "  0.30662772059440613,\n",
       "  0.3065396249294281,\n",
       "  0.3063284754753113,\n",
       "  0.3059827387332916,\n",
       "  0.3057807683944702,\n",
       "  0.3054918944835663,\n",
       "  0.30533602833747864,\n",
       "  0.3052081763744354,\n",
       "  0.30503302812576294,\n",
       "  0.30472949147224426,\n",
       "  0.30449560284614563,\n",
       "  0.3042885661125183,\n",
       "  0.304173082113266,\n",
       "  0.3040339946746826,\n",
       "  0.30364176630973816,\n",
       "  0.30331915616989136,\n",
       "  0.303154319524765,\n",
       "  0.3029526174068451,\n",
       "  0.30267396569252014,\n",
       "  0.3027397394180298,\n",
       "  0.30230605602264404,\n",
       "  0.3021046817302704,\n",
       "  0.30211424827575684,\n",
       "  0.30168113112449646,\n",
       "  0.3015158474445343,\n",
       "  0.30132925510406494,\n",
       "  0.301062673330307,\n",
       "  0.3008691370487213,\n",
       "  0.3006232678890228,\n",
       "  0.3004183769226074,\n",
       "  0.30019909143447876,\n",
       "  0.30004358291625977,\n",
       "  0.29996830224990845,\n",
       "  0.29959431290626526,\n",
       "  0.29948076605796814,\n",
       "  0.2992987632751465,\n",
       "  0.299140602350235,\n",
       "  0.298791766166687,\n",
       "  0.2985501289367676,\n",
       "  0.29868224263191223,\n",
       "  0.2981586158275604,\n",
       "  0.2981264293193817,\n",
       "  0.29794201254844666,\n",
       "  0.29765230417251587,\n",
       "  0.297525554895401,\n",
       "  0.2971867024898529,\n",
       "  0.2968429923057556,\n",
       "  0.2969551682472229,\n",
       "  0.2968936562538147,\n",
       "  0.2964847981929779,\n",
       "  0.29648613929748535,\n",
       "  0.29628559947013855,\n",
       "  0.2961382567882538,\n",
       "  0.29596036672592163,\n",
       "  0.2956200838088989,\n",
       "  0.2956331670284271,\n",
       "  0.29554492235183716,\n",
       "  0.29532408714294434,\n",
       "  0.29523226618766785,\n",
       "  0.29502302408218384,\n",
       "  0.2949301302433014,\n",
       "  0.2948170006275177],\n",
       " 'val_loss': [0.3202456831932068,\n",
       "  0.31678295135498047,\n",
       "  0.31595566868782043,\n",
       "  0.315490186214447,\n",
       "  0.31516677141189575,\n",
       "  0.3152463436126709,\n",
       "  0.3159841001033783,\n",
       "  0.31606826186180115,\n",
       "  0.3155815303325653,\n",
       "  0.315650075674057,\n",
       "  0.31499457359313965,\n",
       "  0.31557923555374146,\n",
       "  0.3149249851703644,\n",
       "  0.31549397110939026,\n",
       "  0.31503280997276306,\n",
       "  0.3150869905948639,\n",
       "  0.3170543313026428,\n",
       "  0.31641337275505066,\n",
       "  0.3152250051498413,\n",
       "  0.3157406747341156,\n",
       "  0.31572839617729187,\n",
       "  0.3162817656993866,\n",
       "  0.31568095088005066,\n",
       "  0.3155350983142853,\n",
       "  0.31639575958251953,\n",
       "  0.3160509169101715,\n",
       "  0.31636759638786316,\n",
       "  0.31650039553642273,\n",
       "  0.3173382580280304,\n",
       "  0.3166402280330658,\n",
       "  0.3165190815925598,\n",
       "  0.3166508972644806,\n",
       "  0.31683212518692017,\n",
       "  0.31665050983428955,\n",
       "  0.3191617727279663,\n",
       "  0.3179231882095337,\n",
       "  0.3172413408756256,\n",
       "  0.31718578934669495,\n",
       "  0.31798022985458374,\n",
       "  0.31807878613471985,\n",
       "  0.31873631477355957,\n",
       "  0.31787005066871643,\n",
       "  0.3180415630340576,\n",
       "  0.3180684447288513,\n",
       "  0.3186373710632324,\n",
       "  0.320076048374176,\n",
       "  0.31960538029670715,\n",
       "  0.31988903880119324,\n",
       "  0.31969350576400757,\n",
       "  0.32151877880096436,\n",
       "  0.3196362555027008,\n",
       "  0.3199971914291382,\n",
       "  0.32107698917388916,\n",
       "  0.3200230002403259,\n",
       "  0.32093074917793274,\n",
       "  0.320341020822525,\n",
       "  0.321771502494812,\n",
       "  0.32250046730041504,\n",
       "  0.3211019039154053,\n",
       "  0.3225346803665161,\n",
       "  0.32212188839912415,\n",
       "  0.322383850812912,\n",
       "  0.3232070803642273,\n",
       "  0.3207140564918518,\n",
       "  0.32373687624931335,\n",
       "  0.3223307132720947,\n",
       "  0.32368987798690796,\n",
       "  0.324927419424057,\n",
       "  0.3234821856021881,\n",
       "  0.323830783367157,\n",
       "  0.32519638538360596,\n",
       "  0.3263436555862427,\n",
       "  0.32367661595344543,\n",
       "  0.32566219568252563,\n",
       "  0.32380223274230957,\n",
       "  0.3263048231601715,\n",
       "  0.32700270414352417,\n",
       "  0.3263249397277832,\n",
       "  0.3277457058429718,\n",
       "  0.32669582962989807,\n",
       "  0.32538607716560364,\n",
       "  0.3256620764732361,\n",
       "  0.3272803723812103,\n",
       "  0.3271515369415283,\n",
       "  0.32784417271614075,\n",
       "  0.3283759355545044,\n",
       "  0.32836177945137024,\n",
       "  0.3278598189353943,\n",
       "  0.33030053973197937,\n",
       "  0.3269939720630646,\n",
       "  0.3301786184310913,\n",
       "  0.3295898139476776,\n",
       "  0.32985615730285645,\n",
       "  0.3297758996486664,\n",
       "  0.3302000164985657,\n",
       "  0.3312033414840698,\n",
       "  0.3297755718231201,\n",
       "  0.3309941589832306,\n",
       "  0.3330721855163574,\n",
       "  0.3317512571811676]}"
      ]
     },
     "execution_count": 46,
     "metadata": {},
     "output_type": "execute_result"
    }
   ],
   "source": [
    "model.history.history"
   ]
  },
  {
   "cell_type": "code",
   "execution_count": 47,
   "id": "55476c2f-c78d-4293-8311-7bf03e864fb7",
   "metadata": {},
   "outputs": [
    {
     "data": {
      "text/plain": [
       "<Axes: >"
      ]
     },
     "execution_count": 47,
     "metadata": {},
     "output_type": "execute_result"
    },
    {
     "data": {
      "image/png": "[encoded data removed]",
      "text/plain": [
       "<Figure size 640x480 with 1 Axes>"
      ]
     },
     "metadata": {},
     "output_type": "display_data"
    }
   ],
   "source": [
    "losses = pd.DataFrame(model.history.history)\n",
    "losses.plot()"
   ]
  },
  {
   "cell_type": "markdown",
   "id": "b39d2f33-c03f-425d-88e8-c9b89319c625",
   "metadata": {},
   "source": [
    "## Early Stopping"
   ]
  },
  {
   "cell_type": "code",
   "execution_count": 48,
   "id": "85684667-ad03-47ce-b2de-356b2abdfcdb",
   "metadata": {},
   "outputs": [],
   "source": [
    "from tensorflow.keras.callbacks import EarlyStopping #, ReduceLROnPlateau"
   ]
  },
  {
   "cell_type": "code",
   "execution_count": 49,
   "id": "fbee165f-c7bd-4b1b-80c4-128ce247c6e2",
   "metadata": {},
   "outputs": [],
   "source": [
    "# Set up early stopping\n",
    "early_stop = EarlyStopping(monitor='val_loss', mode='min', verbose=1, patience=25, restore_best_weights=True)"
   ]
  },
  {
   "cell_type": "code",
   "execution_count": 50,
   "id": "70d6ddfa-67ec-40bb-86b4-8ef3b87ce38d",
   "metadata": {},
   "outputs": [],
   "source": [
    "model = Sequential()\n",
    "\n",
    "model.add(Dense(units=82,activation='relu'))\n",
    "model.add(Dense(units=41,activation='relu'))\n",
    "model.add(Dense(units=20,activation='relu'))\n",
    "\n",
    "model.add(Dense(units=1,activation='sigmoid'))\n",
    "\n",
    "model.compile(loss='binary_crossentropy', optimizer='adam')"
   ]
  },
  {
   "cell_type": "code",
   "execution_count": 51,
   "id": "d897ee7d-ea6d-44c8-b4eb-23457e5a180c",
   "metadata": {
    "scrolled": true
   },
   "outputs": [
    {
     "name": "stdout",
     "output_type": "stream",
     "text": [
      "Epoch 1/100\n",
      "5586/5586 [==============================] - 22s 4ms/step - loss: 0.3212 - val_loss: 0.3213\n",
      "Epoch 2/100\n",
      "5586/5586 [==============================] - 20s 4ms/step - loss: 0.3146 - val_loss: 0.3159\n",
      "Epoch 3/100\n",
      "5586/5586 [==============================] - 19s 3ms/step - loss: 0.3135 - val_loss: 0.3162\n",
      "Epoch 4/100\n",
      "5586/5586 [==============================] - 19s 3ms/step - loss: 0.3131 - val_loss: 0.3157\n",
      "Epoch 5/100\n",
      "5586/5586 [==============================] - 22s 4ms/step - loss: 0.3128 - val_loss: 0.3152\n",
      "Epoch 6/100\n",
      "5586/5586 [==============================] - 23s 4ms/step - loss: 0.3124 - val_loss: 0.3183\n",
      "Epoch 7/100\n",
      "5586/5586 [==============================] - 19s 3ms/step - loss: 0.3123 - val_loss: 0.3152\n",
      "Epoch 8/100\n",
      "5586/5586 [==============================] - 20s 4ms/step - loss: 0.3120 - val_loss: 0.3151\n",
      "Epoch 9/100\n",
      "5586/5586 [==============================] - 19s 3ms/step - loss: 0.3117 - val_loss: 0.3155\n",
      "Epoch 10/100\n",
      "5586/5586 [==============================] - 18s 3ms/step - loss: 0.3113 - val_loss: 0.3157\n",
      "Epoch 11/100\n",
      "5586/5586 [==============================] - 18s 3ms/step - loss: 0.3111 - val_loss: 0.3164\n",
      "Epoch 12/100\n",
      "5586/5586 [==============================] - 19s 3ms/step - loss: 0.3109 - val_loss: 0.3156\n",
      "Epoch 13/100\n",
      "5586/5586 [==============================] - 19s 3ms/step - loss: 0.3108 - val_loss: 0.3153\n",
      "Epoch 14/100\n",
      "5586/5586 [==============================] - 20s 4ms/step - loss: 0.3106 - val_loss: 0.3160\n",
      "Epoch 15/100\n",
      "5586/5586 [==============================] - 19s 3ms/step - loss: 0.3104 - val_loss: 0.3158\n",
      "Epoch 16/100\n",
      "5586/5586 [==============================] - 19s 3ms/step - loss: 0.3103 - val_loss: 0.3159\n",
      "Epoch 17/100\n",
      "5586/5586 [==============================] - 20s 4ms/step - loss: 0.3099 - val_loss: 0.3165\n",
      "Epoch 18/100\n",
      "5586/5586 [==============================] - 19s 3ms/step - loss: 0.3099 - val_loss: 0.3160\n",
      "Epoch 19/100\n",
      "5586/5586 [==============================] - 19s 3ms/step - loss: 0.3095 - val_loss: 0.3161\n",
      "Epoch 20/100\n",
      "5586/5586 [==============================] - 20s 3ms/step - loss: 0.3093 - val_loss: 0.3166\n",
      "Epoch 21/100\n",
      "5586/5586 [==============================] - 19s 3ms/step - loss: 0.3092 - val_loss: 0.3168\n",
      "Epoch 22/100\n",
      "5586/5586 [==============================] - 20s 4ms/step - loss: 0.3090 - val_loss: 0.3168\n",
      "Epoch 23/100\n",
      "5586/5586 [==============================] - 20s 3ms/step - loss: 0.3089 - val_loss: 0.3167\n",
      "Epoch 24/100\n",
      "5586/5586 [==============================] - 19s 3ms/step - loss: 0.3086 - val_loss: 0.3164\n",
      "Epoch 25/100\n",
      "5586/5586 [==============================] - 18s 3ms/step - loss: 0.3084 - val_loss: 0.3169\n",
      "Epoch 26/100\n",
      "5586/5586 [==============================] - 18s 3ms/step - loss: 0.3083 - val_loss: 0.3165\n",
      "Epoch 27/100\n",
      "5586/5586 [==============================] - 21s 4ms/step - loss: 0.3081 - val_loss: 0.3188\n",
      "Epoch 28/100\n",
      "5586/5586 [==============================] - 19s 3ms/step - loss: 0.3079 - val_loss: 0.3172\n",
      "Epoch 29/100\n",
      "5586/5586 [==============================] - 18s 3ms/step - loss: 0.3077 - val_loss: 0.3178\n",
      "Epoch 30/100\n",
      "5586/5586 [==============================] - 19s 3ms/step - loss: 0.3074 - val_loss: 0.3180\n",
      "Epoch 31/100\n",
      "5586/5586 [==============================] - 20s 4ms/step - loss: 0.3074 - val_loss: 0.3200\n",
      "Epoch 32/100\n",
      "5586/5586 [==============================] - 21s 4ms/step - loss: 0.3072 - val_loss: 0.3183\n",
      "Epoch 33/100\n",
      "5586/5586 [==============================] - ETA: 0s - loss: 0.3069Restoring model weights from the end of the best epoch: 8.\n",
      "5586/5586 [==============================] - 21s 4ms/step - loss: 0.3069 - val_loss: 0.3182\n",
      "Epoch 33: early stopping\n"
     ]
    },
    {
     "data": {
      "text/plain": [
       "<keras.src.callbacks.History at 0x1b455acfa90>"
      ]
     },
     "execution_count": 51,
     "metadata": {},
     "output_type": "execute_result"
    }
   ],
   "source": [
    "model.fit(x=X_train, y=y_train,validation_data = (X_test, y_test),\n",
    "         verbose=1, epochs=100, callbacks=[early_stop]\n",
    "         )"
   ]
  },
  {
   "cell_type": "code",
   "execution_count": 52,
   "id": "113c88ce-a859-4c1c-a829-5a18422c84c0",
   "metadata": {},
   "outputs": [
    {
     "data": {
      "text/plain": [
       "<Axes: >"
      ]
     },
     "execution_count": 52,
     "metadata": {},
     "output_type": "execute_result"
    },
    {
     "data": {
      "image/png": "[encoded data removed]",
      "text/plain": [
       "<Figure size 640x480 with 1 Axes>"
      ]
     },
     "metadata": {},
     "output_type": "display_data"
    }
   ],
   "source": [
    "model_loss = pd.DataFrame(model.history.history)\n",
    "model_loss.plot()"
   ]
  },
  {
   "cell_type": "markdown",
   "id": "83ae72ed-1e60-41a3-bec9-c9e29e42c3e4",
   "metadata": {},
   "source": [
    "## Adding in Dropout layers "
   ]
  },
  {
   "cell_type": "code",
   "execution_count": 53,
   "id": "202821a5-7a36-4ec5-90ea-3955e21bc95f",
   "metadata": {},
   "outputs": [],
   "source": [
    "from tensorflow.keras.layers import Dropout"
   ]
  },
  {
   "cell_type": "code",
   "execution_count": 54,
   "id": "c33ff315-d662-4b98-a9d7-3a94788ad5dc",
   "metadata": {
    "scrolled": true
   },
   "outputs": [
    {
     "name": "stdout",
     "output_type": "stream",
     "text": [
      "Epoch 1/100\n",
      "699/699 [==============================] - 6s 5ms/step - loss: 0.3842 - val_loss: 0.3228\n",
      "Epoch 2/100\n",
      "699/699 [==============================] - 4s 6ms/step - loss: 0.3414 - val_loss: 0.3212\n",
      "Epoch 3/100\n",
      "699/699 [==============================] - 5s 6ms/step - loss: 0.3339 - val_loss: 0.3201\n",
      "Epoch 4/100\n",
      "699/699 [==============================] - 4s 5ms/step - loss: 0.3286 - val_loss: 0.3192\n",
      "Epoch 5/100\n",
      "699/699 [==============================] - 4s 5ms/step - loss: 0.3261 - val_loss: 0.3186\n",
      "Epoch 6/100\n",
      "699/699 [==============================] - 5s 6ms/step - loss: 0.3241 - val_loss: 0.3189\n",
      "Epoch 7/100\n",
      "699/699 [==============================] - 4s 6ms/step - loss: 0.3232 - val_loss: 0.3176\n",
      "Epoch 8/100\n",
      "699/699 [==============================] - 4s 6ms/step - loss: 0.3226 - val_loss: 0.3186\n",
      "Epoch 9/100\n",
      "699/699 [==============================] - 4s 5ms/step - loss: 0.3217 - val_loss: 0.3173\n",
      "Epoch 10/100\n",
      "699/699 [==============================] - 4s 6ms/step - loss: 0.3216 - val_loss: 0.3169\n",
      "Epoch 11/100\n",
      "699/699 [==============================] - 5s 7ms/step - loss: 0.3209 - val_loss: 0.3168\n",
      "Epoch 12/100\n",
      "699/699 [==============================] - 4s 6ms/step - loss: 0.3208 - val_loss: 0.3173\n",
      "Epoch 13/100\n",
      "699/699 [==============================] - 5s 7ms/step - loss: 0.3206 - val_loss: 0.3172\n",
      "Epoch 14/100\n",
      "699/699 [==============================] - 5s 7ms/step - loss: 0.3207 - val_loss: 0.3166\n",
      "Epoch 15/100\n",
      "699/699 [==============================] - 4s 6ms/step - loss: 0.3201 - val_loss: 0.3166\n",
      "Epoch 16/100\n",
      "699/699 [==============================] - 4s 6ms/step - loss: 0.3206 - val_loss: 0.3175\n",
      "Epoch 17/100\n",
      "699/699 [==============================] - 4s 6ms/step - loss: 0.3199 - val_loss: 0.3169\n",
      "Epoch 18/100\n",
      "699/699 [==============================] - 5s 7ms/step - loss: 0.3192 - val_loss: 0.3162\n",
      "Epoch 19/100\n",
      "699/699 [==============================] - 4s 5ms/step - loss: 0.3198 - val_loss: 0.3173\n",
      "Epoch 20/100\n",
      "699/699 [==============================] - 4s 5ms/step - loss: 0.3200 - val_loss: 0.3165\n",
      "Epoch 21/100\n",
      "699/699 [==============================] - 5s 7ms/step - loss: 0.3200 - val_loss: 0.3165\n",
      "Epoch 22/100\n",
      "699/699 [==============================] - 4s 6ms/step - loss: 0.3199 - val_loss: 0.3163\n",
      "Epoch 23/100\n",
      "699/699 [==============================] - 4s 5ms/step - loss: 0.3192 - val_loss: 0.3160\n",
      "Epoch 24/100\n",
      "699/699 [==============================] - 4s 6ms/step - loss: 0.3193 - val_loss: 0.3160\n",
      "Epoch 25/100\n",
      "699/699 [==============================] - 5s 7ms/step - loss: 0.3195 - val_loss: 0.3167\n",
      "Epoch 26/100\n",
      "699/699 [==============================] - 5s 7ms/step - loss: 0.3192 - val_loss: 0.3161\n",
      "Epoch 27/100\n",
      "699/699 [==============================] - 4s 5ms/step - loss: 0.3201 - val_loss: 0.3160\n",
      "Epoch 28/100\n",
      "699/699 [==============================] - 4s 6ms/step - loss: 0.3196 - val_loss: 0.3164\n",
      "Epoch 29/100\n",
      "699/699 [==============================] - 4s 6ms/step - loss: 0.3195 - val_loss: 0.3175\n",
      "Epoch 30/100\n",
      "699/699 [==============================] - 4s 6ms/step - loss: 0.3192 - val_loss: 0.3160\n",
      "Epoch 31/100\n",
      "699/699 [==============================] - 4s 5ms/step - loss: 0.3195 - val_loss: 0.3168\n",
      "Epoch 32/100\n",
      "699/699 [==============================] - 4s 6ms/step - loss: 0.3193 - val_loss: 0.3167\n",
      "Epoch 33/100\n",
      "699/699 [==============================] - 5s 7ms/step - loss: 0.3193 - val_loss: 0.3168\n",
      "Epoch 34/100\n",
      "699/699 [==============================] - 4s 5ms/step - loss: 0.3186 - val_loss: 0.3162\n",
      "Epoch 35/100\n",
      "699/699 [==============================] - 4s 5ms/step - loss: 0.3193 - val_loss: 0.3162\n",
      "Epoch 36/100\n",
      "699/699 [==============================] - 4s 6ms/step - loss: 0.3186 - val_loss: 0.3159\n",
      "Epoch 37/100\n",
      "699/699 [==============================] - 4s 6ms/step - loss: 0.3189 - val_loss: 0.3167\n",
      "Epoch 38/100\n",
      "699/699 [==============================] - 4s 5ms/step - loss: 0.3192 - val_loss: 0.3164\n",
      "Epoch 39/100\n",
      "699/699 [==============================] - 4s 5ms/step - loss: 0.3186 - val_loss: 0.3165\n",
      "Epoch 40/100\n",
      "699/699 [==============================] - 4s 5ms/step - loss: 0.3188 - val_loss: 0.3161\n",
      "Epoch 41/100\n",
      "699/699 [==============================] - 4s 6ms/step - loss: 0.3188 - val_loss: 0.3159\n",
      "Epoch 42/100\n",
      "699/699 [==============================] - 4s 5ms/step - loss: 0.3187 - val_loss: 0.3162\n",
      "Epoch 43/100\n",
      "699/699 [==============================] - 4s 5ms/step - loss: 0.3188 - val_loss: 0.3164\n",
      "Epoch 44/100\n",
      "699/699 [==============================] - 4s 6ms/step - loss: 0.3186 - val_loss: 0.3171\n",
      "Epoch 45/100\n",
      "699/699 [==============================] - 5s 7ms/step - loss: 0.3188 - val_loss: 0.3169\n",
      "Epoch 46/100\n",
      "699/699 [==============================] - 4s 5ms/step - loss: 0.3190 - val_loss: 0.3158\n",
      "Epoch 47/100\n",
      "699/699 [==============================] - 4s 5ms/step - loss: 0.3185 - val_loss: 0.3157\n",
      "Epoch 48/100\n",
      "699/699 [==============================] - 4s 6ms/step - loss: 0.3192 - val_loss: 0.3160\n",
      "Epoch 49/100\n",
      "699/699 [==============================] - 4s 6ms/step - loss: 0.3186 - val_loss: 0.3169\n",
      "Epoch 50/100\n",
      "699/699 [==============================] - 4s 5ms/step - loss: 0.3183 - val_loss: 0.3161\n",
      "Epoch 51/100\n",
      "699/699 [==============================] - 4s 5ms/step - loss: 0.3188 - val_loss: 0.3162\n",
      "Epoch 52/100\n",
      "699/699 [==============================] - 4s 5ms/step - loss: 0.3184 - val_loss: 0.3162\n",
      "Epoch 53/100\n",
      "699/699 [==============================] - 5s 7ms/step - loss: 0.3187 - val_loss: 0.3169\n",
      "Epoch 54/100\n",
      "699/699 [==============================] - 4s 5ms/step - loss: 0.3187 - val_loss: 0.3161\n",
      "Epoch 55/100\n",
      "699/699 [==============================] - 5s 7ms/step - loss: 0.3191 - val_loss: 0.3166\n",
      "Epoch 56/100\n",
      "699/699 [==============================] - 5s 7ms/step - loss: 0.3189 - val_loss: 0.3163\n",
      "Epoch 57/100\n",
      "699/699 [==============================] - 4s 6ms/step - loss: 0.3184 - val_loss: 0.3172\n",
      "Epoch 58/100\n",
      "699/699 [==============================] - 4s 6ms/step - loss: 0.3186 - val_loss: 0.3161\n",
      "Epoch 59/100\n",
      "699/699 [==============================] - 4s 5ms/step - loss: 0.3188 - val_loss: 0.3160\n",
      "Epoch 60/100\n",
      "699/699 [==============================] - 4s 6ms/step - loss: 0.3184 - val_loss: 0.3167\n",
      "Epoch 61/100\n",
      "699/699 [==============================] - 5s 7ms/step - loss: 0.3187 - val_loss: 0.3160\n",
      "Epoch 62/100\n",
      "699/699 [==============================] - 4s 5ms/step - loss: 0.3188 - val_loss: 0.3165\n",
      "Epoch 63/100\n",
      "699/699 [==============================] - 4s 6ms/step - loss: 0.3189 - val_loss: 0.3159\n",
      "Epoch 64/100\n",
      "699/699 [==============================] - 4s 6ms/step - loss: 0.3188 - val_loss: 0.3174\n",
      "Epoch 65/100\n",
      "699/699 [==============================] - 4s 6ms/step - loss: 0.3182 - val_loss: 0.3159\n",
      "Epoch 66/100\n",
      "699/699 [==============================] - 4s 6ms/step - loss: 0.3187 - val_loss: 0.3164\n",
      "Epoch 67/100\n",
      "699/699 [==============================] - 4s 5ms/step - loss: 0.3184 - val_loss: 0.3162\n",
      "Epoch 68/100\n",
      "699/699 [==============================] - 4s 6ms/step - loss: 0.3182 - val_loss: 0.3160\n",
      "Epoch 69/100\n",
      "699/699 [==============================] - 4s 6ms/step - loss: 0.3185 - val_loss: 0.3167\n",
      "Epoch 70/100\n",
      "699/699 [==============================] - 4s 5ms/step - loss: 0.3182 - val_loss: 0.3163\n",
      "Epoch 71/100\n",
      "699/699 [==============================] - 4s 6ms/step - loss: 0.3184 - val_loss: 0.3162\n",
      "Epoch 72/100\n",
      "699/699 [==============================] - 4s 6ms/step - loss: 0.3183 - val_loss: 0.3162\n",
      "Epoch 73/100\n",
      "699/699 [==============================] - 4s 6ms/step - loss: 0.3177 - val_loss: 0.3167\n",
      "Epoch 74/100\n",
      "699/699 [==============================] - 4s 6ms/step - loss: 0.3185 - val_loss: 0.3167\n",
      "Epoch 75/100\n",
      "699/699 [==============================] - 4s 6ms/step - loss: 0.3184 - val_loss: 0.3158\n",
      "Epoch 76/100\n",
      "699/699 [==============================] - 5s 7ms/step - loss: 0.3180 - val_loss: 0.3160\n",
      "Epoch 77/100\n",
      "699/699 [==============================] - 4s 5ms/step - loss: 0.3188 - val_loss: 0.3165\n",
      "Epoch 78/100\n",
      "699/699 [==============================] - 4s 5ms/step - loss: 0.3182 - val_loss: 0.3166\n",
      "Epoch 79/100\n",
      "699/699 [==============================] - 4s 6ms/step - loss: 0.3182 - val_loss: 0.3162\n",
      "Epoch 80/100\n",
      "699/699 [==============================] - 4s 6ms/step - loss: 0.3177 - val_loss: 0.3161\n",
      "Epoch 81/100\n",
      "699/699 [==============================] - 4s 5ms/step - loss: 0.3181 - val_loss: 0.3166\n",
      "Epoch 82/100\n",
      "699/699 [==============================] - 4s 5ms/step - loss: 0.3178 - val_loss: 0.3158\n",
      "Epoch 83/100\n",
      "699/699 [==============================] - 4s 6ms/step - loss: 0.3184 - val_loss: 0.3164\n",
      "Epoch 84/100\n",
      "699/699 [==============================] - 5s 8ms/step - loss: 0.3185 - val_loss: 0.3160\n",
      "Epoch 85/100\n",
      "699/699 [==============================] - 4s 6ms/step - loss: 0.3185 - val_loss: 0.3161\n",
      "Epoch 86/100\n",
      "699/699 [==============================] - 4s 6ms/step - loss: 0.3187 - val_loss: 0.3168\n",
      "Epoch 87/100\n",
      "699/699 [==============================] - 5s 7ms/step - loss: 0.3180 - val_loss: 0.3160\n",
      "Epoch 88/100\n",
      "699/699 [==============================] - 5s 7ms/step - loss: 0.3178 - val_loss: 0.3167\n",
      "Epoch 89/100\n",
      "699/699 [==============================] - 4s 6ms/step - loss: 0.3179 - val_loss: 0.3161\n",
      "Epoch 90/100\n",
      "699/699 [==============================] - 4s 6ms/step - loss: 0.3182 - val_loss: 0.3156\n",
      "Epoch 91/100\n",
      "699/699 [==============================] - 5s 7ms/step - loss: 0.3181 - val_loss: 0.3167\n",
      "Epoch 92/100\n",
      "699/699 [==============================] - 5s 7ms/step - loss: 0.3180 - val_loss: 0.3163\n",
      "Epoch 93/100\n",
      "699/699 [==============================] - 4s 5ms/step - loss: 0.3181 - val_loss: 0.3163\n",
      "Epoch 94/100\n",
      "699/699 [==============================] - 4s 6ms/step - loss: 0.3187 - val_loss: 0.3162\n",
      "Epoch 95/100\n",
      "699/699 [==============================] - 4s 6ms/step - loss: 0.3189 - val_loss: 0.3168\n",
      "Epoch 96/100\n",
      "699/699 [==============================] - 4s 5ms/step - loss: 0.3182 - val_loss: 0.3165\n",
      "Epoch 97/100\n",
      "699/699 [==============================] - 4s 6ms/step - loss: 0.3181 - val_loss: 0.3166\n",
      "Epoch 98/100\n",
      "699/699 [==============================] - 4s 6ms/step - loss: 0.3180 - val_loss: 0.3159\n",
      "Epoch 99/100\n",
      "699/699 [==============================] - 4s 6ms/step - loss: 0.3179 - val_loss: 0.3162\n",
      "Epoch 100/100\n",
      "699/699 [==============================] - 4s 5ms/step - loss: 0.3180 - val_loss: 0.3157\n"
     ]
    },
    {
     "data": {
      "text/plain": [
       "<keras.src.callbacks.History at 0x1b455d63010>"
      ]
     },
     "execution_count": 54,
     "metadata": {},
     "output_type": "execute_result"
    }
   ],
   "source": [
    "model = Sequential()\n",
    "\n",
    "model.add(Dense(82,  activation='relu'))\n",
    "model.add(Dropout(0.5))\n",
    "\n",
    "model.add(Dense(41, activation='relu'))\n",
    "model.add(Dropout(0.5))\n",
    "\n",
    "model.add(Dense(20, activation='relu'))\n",
    "model.add(Dropout(0.5))\n",
    "\n",
    "# output layer\n",
    "model.add(Dense(units=1,activation='sigmoid'))\n",
    "\n",
    "# Compile model\n",
    "model.compile(loss='binary_crossentropy', optimizer='adam')\n",
    "\n",
    "#Training the model\n",
    "model.fit(x=X_train, y=y_train,validation_data = (X_test, y_test),\n",
    "         verbose=1,batch_size=256, epochs=100)"
   ]
  },
  {
   "cell_type": "code",
   "execution_count": 55,
   "id": "3bb25061-c7f9-4cec-99d4-853901920710",
   "metadata": {},
   "outputs": [
    {
     "data": {
      "text/plain": [
       "<Axes: >"
      ]
     },
     "execution_count": 55,
     "metadata": {},
     "output_type": "execute_result"
    },
    {
     "data": {
      "image/png": "[encoded data removed]",
      "text/plain": [
       "<Figure size 640x480 with 1 Axes>"
      ]
     },
     "metadata": {},
     "output_type": "display_data"
    }
   ],
   "source": [
    "model_loss = pd.DataFrame(model.history.history)\n",
    "model_loss.plot()"
   ]
  },
  {
   "cell_type": "markdown",
   "id": "53cc288d-8f6b-4473-b52d-f1e5f03e1691",
   "metadata": {},
   "source": [
    "## Saving the model."
   ]
  },
  {
   "cell_type": "code",
   "execution_count": 56,
   "id": "455e9c3c-b247-4c2d-b65e-792a6b1a49db",
   "metadata": {},
   "outputs": [],
   "source": [
    "from tensorflow.keras.models import load_model"
   ]
  },
  {
   "cell_type": "code",
   "execution_count": 57,
   "id": "9ca7ff49-d074-4048-95ae-6aac7516422d",
   "metadata": {},
   "outputs": [],
   "source": [
    "model.save('Loan_default_prediction_project_model1.h5')  "
   ]
  },
  {
   "cell_type": "markdown",
   "id": "1460aceb-1d56-4107-9f31-eeb021169bc1",
   "metadata": {},
   "source": [
    "## Model Evaluation"
   ]
  },
  {
   "cell_type": "code",
   "execution_count": 58,
   "id": "45f15c2b-5e1a-4f5d-b990-d8d4228f5bc2",
   "metadata": {},
   "outputs": [],
   "source": [
    "from sklearn.metrics import mean_squared_error, mean_absolute_error,explained_variance_score\n",
    "from sklearn.metrics import classification_report,confusion_matrix"
   ]
  },
  {
   "cell_type": "code",
   "execution_count": 59,
   "id": "ea96710e-2073-44b2-9c42-636fbc1c507d",
   "metadata": {},
   "outputs": [
    {
     "name": "stdout",
     "output_type": "stream",
     "text": [
      "2394/2394 [==============================] - 6s 2ms/step\n"
     ]
    }
   ],
   "source": [
    "predictions = model.predict(X_test)\n",
    "predicted_classes = predictions.argmax(axis=-1)"
   ]
  },
  {
   "cell_type": "code",
   "execution_count": 60,
   "id": "89f666ee-5af9-48a5-b053-34cd16a8c184",
   "metadata": {},
   "outputs": [],
   "source": [
    "# assuming `predictions` are your model's predictions\n",
    "predictions_binary = [1 if p > 0.5 else 0 for p in predictions]"
   ]
  },
  {
   "cell_type": "code",
   "execution_count": 61,
   "id": "29911c38-f525-44f4-9689-ffc7da08d97e",
   "metadata": {},
   "outputs": [
    {
     "name": "stdout",
     "output_type": "stream",
     "text": [
      "              precision    recall  f1-score   support\n",
      "\n",
      "           0       0.89      1.00      0.94     67668\n",
      "           1       0.67      0.03      0.06      8937\n",
      "\n",
      "    accuracy                           0.89     76605\n",
      "   macro avg       0.78      0.52      0.50     76605\n",
      "weighted avg       0.86      0.89      0.84     76605\n",
      "\n"
     ]
    }
   ],
   "source": [
    "print(classification_report(y_test,predictions_binary))"
   ]
  },
  {
   "cell_type": "code",
   "execution_count": 62,
   "id": "6339715f-5857-4ad7-907f-c8376a03020f",
   "metadata": {},
   "outputs": [
    {
     "name": "stdout",
     "output_type": "stream",
     "text": [
      "[[67516   152]\n",
      " [ 8632   305]]\n"
     ]
    }
   ],
   "source": [
    "print(confusion_matrix(y_test,predictions_binary))"
   ]
  },
  {
   "cell_type": "code",
   "execution_count": 63,
   "id": "ffe33ff8-7383-44f7-95cb-300cdf181d27",
   "metadata": {},
   "outputs": [],
   "source": [
    "# The plot shows the ‘loss’ and ‘validation loss’ of the model over epochs.\n",
    "# it appears that both the training loss and the validation loss are low and stable, which is a good sign. \n",
    "# It suggests that the model has trained well without overfitting or underfitting."
   ]
  },
  {
   "cell_type": "code",
   "execution_count": 64,
   "id": "9c745ff1-617b-4e34-8403-61a4df96cd93",
   "metadata": {},
   "outputs": [
    {
     "data": {
      "text/plain": [
       "Index(['Age', 'Income', 'LoanAmount', 'CreditScore', 'MonthsEmployed',\n",
       "       'NumCreditLines', 'InterestRate', 'LoanTerm', 'DTIRatio', 'Education',\n",
       "       'EmploymentType', 'MaritalStatus', 'HasMortgage', 'HasDependents',\n",
       "       'LoanPurpose', 'HasCoSigner', 'Default'],\n",
       "      dtype='object')"
      ]
     },
     "execution_count": 64,
     "metadata": {},
     "output_type": "execute_result"
    }
   ],
   "source": [
    "df.columns"
   ]
  },
  {
   "cell_type": "code",
   "execution_count": null,
   "id": "8b51eb81-87a6-49bf-9f58-20565bc21705",
   "metadata": {},
   "outputs": [],
   "source": []
  }
 ],
 "metadata": {
  "kernelspec": {
   "display_name": "Python 3 (ipykernel)",
   "language": "python",
   "name": "python3"
  },
  "language_info": {
   "codemirror_mode": {
    "name": "ipython",
    "version": 3
   },
   "file_extension": ".py",
   "mimetype": "text/x-python",
   "name": "python",
   "nbconvert_exporter": "python",
   "pygments_lexer": "ipython3",
   "version": "3.9.12"
  }
 },
 "nbformat": 4,
 "nbformat_minor": 5
}
